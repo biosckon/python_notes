{
 "cells": [
  {
   "cell_type": "code",
   "execution_count": 49,
   "metadata": {
    "collapsed": false
   },
   "outputs": [
    {
     "name": "stdout",
     "output_type": "stream",
     "text": [
      "Once deleted, variables cannot be recovered. Proceed (y/[n])? y\n",
      "Populating the interactive namespace from numpy and matplotlib\n"
     ]
    }
   ],
   "source": [
    "%reset\n",
    "#array data structure\n",
    "%pylab inline\n",
    "import pandas as pd\n",
    "import numpy as np\n",
    "import sys,os,os.path\n",
    "os.environ['HTTP_PROXY']=\"http://zproxy-amsdc1:8080\"\n",
    "os.environ['HTTPS_PROXY']=\"https://zproxy-amsdc1:8080\""
   ]
  },
  {
   "cell_type": "code",
   "execution_count": null,
   "metadata": {
    "collapsed": true
   },
   "outputs": [],
   "source": [
    "# ? ask arrays of structures C\n",
    "# ? pulling series out of DataFrame"
   ]
  },
  {
   "cell_type": "code",
   "execution_count": 5,
   "metadata": {
    "collapsed": false
   },
   "outputs": [],
   "source": [
    "a = np.array([[0, 1, 2], [3, 4, 5], [6, 7, 8]])"
   ]
  },
  {
   "cell_type": "code",
   "execution_count": null,
   "metadata": {
    "collapsed": true
   },
   "outputs": [],
   "source": [
    "# NDArray object, dtype, dim count, dimensions, strides, data -> memory"
   ]
  },
  {
   "cell_type": "code",
   "execution_count": 13,
   "metadata": {
    "collapsed": true
   },
   "outputs": [],
   "source": [
    "b = a[:2, :2]\n",
    "c = a[::2, ::2]\n",
    "d = a[::-1, ::-1]\n",
    "e = a.transpose()"
   ]
  },
  {
   "cell_type": "code",
   "execution_count": 14,
   "metadata": {
    "collapsed": false
   },
   "outputs": [
    {
     "name": "stdout",
     "output_type": "stream",
     "text": [
      "(12L, 4L)\n",
      "(24L, 8L)\n",
      "(-12L, -4L)\n",
      "(4L, 12L)\n"
     ]
    }
   ],
   "source": [
    "print b.strides\n",
    "print c.strides\n",
    "print d.strides\n",
    "print e.strides"
   ]
  },
  {
   "cell_type": "code",
   "execution_count": 21,
   "metadata": {
    "collapsed": false
   },
   "outputs": [],
   "source": [
    "flat = a.flatten() #safe copy\n",
    "ravel = a.ravel() #unsafe uses same"
   ]
  },
  {
   "cell_type": "code",
   "execution_count": 23,
   "metadata": {
    "collapsed": false
   },
   "outputs": [],
   "source": [
    "# memmap'ed arrays\n",
    "# structured arrays for reading into binary data"
   ]
  },
  {
   "cell_type": "code",
   "execution_count": 29,
   "metadata": {
    "collapsed": false
   },
   "outputs": [],
   "source": [
    "# scipy - scipy.org\n",
    "# special, signal, ndimage\n",
    "# fftpack, \n",
    "# optimize, min, max, root finding, newton method\n",
    "# numerical integration\n",
    "# linalg, \n",
    "# io - reading and writing numpy arrays, wave formats, netCDF\n",
    "# stats, cluster, sparse, interpolate\n",
    "\n",
    "# scikit-learn - ML\n",
    "# scikit-image - image processing\n",
    "# statmodels - for classical stats (models, tests)"
   ]
  },
  {
   "cell_type": "code",
   "execution_count": 38,
   "metadata": {
    "collapsed": true
   },
   "outputs": [],
   "source": [
    "from scipy import stats\n",
    "my_normal = stats.norm(100.0, 15.0)\n",
    "x = np.linspace(0, 100, 100)\n",
    "y = "
   ]
  },
  {
   "cell_type": "code",
   "execution_count": 35,
   "metadata": {
    "collapsed": false
   },
   "outputs": [
    {
     "data": {
      "text/plain": [
       "array([  97.09462235,  102.01321767,   95.89510832,   93.73101303,\n",
       "        113.53728011,  101.00783948,   91.27163285,   83.48020348,\n",
       "         91.4270478 ,   72.58893633,  109.3161105 ,   99.07946516,\n",
       "        104.52747928,  112.15627648,  124.15324587,   91.05877295,\n",
       "        100.238942  ,  116.186466  ,  100.50689897,  133.17934662])"
      ]
     },
     "execution_count": 35,
     "metadata": {},
     "output_type": "execute_result"
    }
   ],
   "source": [
    "my_normal.rvs(20)"
   ]
  },
  {
   "cell_type": "code",
   "execution_count": 39,
   "metadata": {
    "collapsed": false
   },
   "outputs": [
    {
     "ename": "NameError",
     "evalue": "name 'y' is not defined",
     "output_type": "error",
     "traceback": [
      "\u001b[0;31m---------------------------------------------------------------------------\u001b[0m",
      "\u001b[0;31mNameError\u001b[0m                                 Traceback (most recent call last)",
      "\u001b[0;32m<ipython-input-39-4c7ea01a5a58>\u001b[0m in \u001b[0;36m<module>\u001b[0;34m()\u001b[0m\n\u001b[0;32m----> 1\u001b[0;31m \u001b[0mplt\u001b[0m\u001b[1;33m.\u001b[0m\u001b[0mplot\u001b[0m\u001b[1;33m(\u001b[0m\u001b[0mx\u001b[0m\u001b[1;33m,\u001b[0m\u001b[0my\u001b[0m\u001b[1;33m)\u001b[0m\u001b[1;33m\u001b[0m\u001b[0m\n\u001b[0m",
      "\u001b[0;31mNameError\u001b[0m: name 'y' is not defined"
     ]
    }
   ],
   "source": [
    "plt.plot(x,y)"
   ]
  },
  {
   "cell_type": "code",
   "execution_count": 36,
   "metadata": {
    "collapsed": true
   },
   "outputs": [],
   "source": [
    "x = np.array([2,5,8,9,10])"
   ]
  },
  {
   "cell_type": "code",
   "execution_count": 37,
   "metadata": {
    "collapsed": true
   },
   "outputs": [],
   "source": [
    "y = np.array([3.5, 4.5, 5.7, 8.9, 7.34])"
   ]
  },
  {
   "cell_type": "code",
   "execution_count": null,
   "metadata": {
    "collapsed": false
   },
   "outputs": [],
   "source": []
  },
  {
   "cell_type": "code",
   "execution_count": 38,
   "metadata": {
    "collapsed": false
   },
   "outputs": [],
   "source": [
    "from scipy import interpolate\n"
   ]
  },
  {
   "cell_type": "code",
   "execution_count": 39,
   "metadata": {
    "collapsed": false
   },
   "outputs": [],
   "source": [
    "f = interpolate.interp1d(x,y, kind='cubic')"
   ]
  },
  {
   "cell_type": "code",
   "execution_count": 40,
   "metadata": {
    "collapsed": true
   },
   "outputs": [],
   "source": [
    "x2 = np.linspace(2, 10, 20)"
   ]
  },
  {
   "cell_type": "code",
   "execution_count": 41,
   "metadata": {
    "collapsed": false
   },
   "outputs": [
    {
     "data": {
      "text/plain": [
       "[<matplotlib.lines.Line2D at 0xc9b2c50>]"
      ]
     },
     "execution_count": 41,
     "metadata": {},
     "output_type": "execute_result"
    },
    {
     "data": {
      "image/png": "[encoded data removed]",
      "text/plain": [
       "<matplotlib.figure.Figure at 0xc9b2c88>"
      ]
     },
     "metadata": {},
     "output_type": "display_data"
    }
   ],
   "source": [
    "plt.plot(x2, f(x2))\n",
    "plt.plot(x,y, 'r-o')"
   ]
  },
  {
   "cell_type": "code",
   "execution_count": 53,
   "metadata": {
    "collapsed": true
   },
   "outputs": [],
   "source": [
    "#PANDAS\n",
    "# DataFrame 2 structure with labeled data\n",
    "# per column dtypes\n",
    "# spreadsheet type of thing\n"
   ]
  },
  {
   "cell_type": "code",
   "execution_count": 10,
   "metadata": {
    "collapsed": false
   },
   "outputs": [
    {
     "data": {
      "text/plain": [
       "{'ABAQUSLM_LICENSE_FILE': '3042@abaquslm_eu_gls_core1.europe.shell.com;3042@abaquslm_AP_gls_core1.asia-pac.shell.com;3042@abaquslm_am_gls_core1.americas.shell.com',\n",
       " 'ADI_ROOT': 'C:\\\\Apps\\\\Halliburton\\\\ADI',\n",
       " 'ADSKFLEX_LICENSE_FILE': '3035@adskflex_eu_gls_core1.europe.shell.com;3035@adskflex_AP_gls_core1.asia-pac.shell.com;3035@adskflex_am_gls_core1.americas.shell.com',\n",
       " 'AD_PATH': 'OU=User Accounts,OU=User Directory,DC=europe,DC=shell,DC=com',\n",
       " 'AFE_PROJECTS': 'C:\\\\AFE_Projects',\n",
       " 'AFE_REFERENCE': 'C:\\\\AFE_Ref',\n",
       " 'ALLUSERSPROFILE': 'C:\\\\ProgramData',\n",
       " 'ALT_LICENSE_FILE': '3057@alt_eu_gls_core1.europe.shell.com;3057@alt_AP_gls_core1.asia-pac.shell.com;3057@alt_am_gls_core1.americas.shell.com',\n",
       " 'ANSYSLMD_LICENSE_FILE': '3046@ams1-s-07489.europe.shell.com',\n",
       " 'APPDATA': 'C:\\\\Users\\\\Igor.Kim\\\\AppData\\\\Roaming',\n",
       " 'BEICIP_LICENSE_FILE': '3093@beicip_eu_gls_core1.europe.shell.com',\n",
       " 'BGL_LMD_LICENSE_FILE': '3030@AMS1-S-07489.europe.shell.com;3030@CBJ-S-8447.asia-pac.shell.com;3030@HOUIC-S-9320.americas.shell.com',\n",
       " 'BLM_LICENSE_FILE': '3085@blm_eu_gls_core1.europe.shell.com',\n",
       " 'BLUECIEL_LICENSE_FILE': '3082@blueciel_eu_gls_core1.europe.shell.com;3082@blueciel_AP_gls_core1.asia-pac.shell.com;3082@blueciel_am_gls_core1.americas.shell.com',\n",
       " 'BMGEO_LICENSE_FILE': '3074@bmgeo_eu_gls_core1.europe.shell.com;3074@bmgeo_AP_gls_core1.asia-pac.shell.com;3074@bmgeo_am_gls_core1.americas.shell.com',\n",
       " 'CACHEDDATA': '\\\\\\\\amsdc1-na-v517\\\\Igor.Kim$\\\\cached',\n",
       " 'CAESAR_LICENSE_FILE': '3037@caesar_eu_gls_core1.europe.shell.com;3037@caesar_AP_gls_core1.asia-pac.shell.com;3037@caesar_am_gls_core1.americas.shell.com',\n",
       " 'CALLMD_LICENSE_FILE': '3008@callmd_eu_gls_core1.europe.shell.com;3008@callmd_AP_gls_core1.asia-pac.shell.com;3008@callmd_am_gls_core1.americas.shell.com',\n",
       " 'CDLMD_LICENSE_FILE': '3040@cdlmd_eu_gls_core1.europe.shell.com;3040@cdlmd_am_gls_core1.americas.shell.com',\n",
       " 'CLICOLOR': '1',\n",
       " 'CMG_LIC_HOST': '3210@MUNTSE-S-09786.europe.shell.com',\n",
       " 'COMMONPROGRAMFILES': 'C:\\\\Program Files\\\\Common Files',\n",
       " 'COMMONPROGRAMFILES(X86)': 'C:\\\\Program Files (x86)\\\\Common Files',\n",
       " 'COMMONPROGRAMW6432': 'C:\\\\Program Files\\\\Common Files',\n",
       " 'COMPUTERNAME': 'RIJKES-L-90045',\n",
       " 'COMSPEC': 'C:\\\\Windows\\\\system32\\\\cmd.exe',\n",
       " 'CONDA_PREFIX': 'C:\\\\Apps\\\\Utils\\\\Anaconda2',\n",
       " 'DDBST_LICENSE': '2891@sww.DDBSPLM.shell.com',\n",
       " 'DHSDELFT_DAEMON': '3051@amsdc1-s-48088.europe.shell.com',\n",
       " 'DHSDELFT_LICENSE_FILE': '3051@dhsdelft_eu_gls_core2.europe.shell.com',\n",
       " 'DNVSLM_LICENSE_FILE': '3045@dnvslm_eu_gls_core1.europe.shell.com;3045@dnvslm_AP_gls_core1.asia-pac.com;3045@dnvslm_am_gls_core1.americas.shell.com',\n",
       " 'DPPETC': 'C:\\\\Apps\\\\Halliburton\\\\RTS\\\\etc',\n",
       " 'DPPHLP': 'C:\\\\Apps\\\\Halliburton\\\\RTS\\\\hlp',\n",
       " 'DPPTMP': 'C:\\\\temp',\n",
       " 'ECORED_LICENSE_FILE': '3066@ams1-s-07489.europe.shell.com',\n",
       " 'ELIIS_LICENSE_FILE': '3053@eliis_eu_gls_core1.europe.shell.com;3053@eliis_AP_gls_core1.asia-pac.shell.com;3053@eliis_am_gls_core1.americas.shell.com',\n",
       " 'ENRESINT_LICENSE_FILE': '3017@enresint_eu_gls_core1.europe.shell.com;3017@enresint_AP_gls_core1.asia-pac.shell.com;3017@enresint_phc_gls_core1.africa-me.shell.com',\n",
       " 'ERDASNET_LICENSE_FILE': '3064@AMS1-S-07489.europe.shell.com;3064@CBJ-S-8447.asia-pac.shell.com;3064@HOUIC-S-9320.americas.shell.com',\n",
       " 'FLEXLM_NO_CKOUT_INSTALL_LIC': '1',\n",
       " 'FME_USE_LM_ENVIRONMENT': 'YES',\n",
       " 'FP_NO_HOST_CHECK': 'NO',\n",
       " 'FULLNAME': 'Kim, Igor GSNL-PTU/E/F',\n",
       " 'GEOCOSM_LICENSE_FILE': '3086@geocosm_am_gls_core1.americas.shell.com',\n",
       " 'GEOMATICLM_LICENSE_FILE': '3031@AMS1-S-07489.europe.shell.com;3031@HOUIC-S-9320.americas.shell.com',\n",
       " 'GEOSOFT_LICENSE_FILE': '3010@geosoft_eu_gls_core1.europe.shell.com;3010@geosoft_AP_gls_core1.asia-pac.shell.com;3010@geosoft_am_gls_core1.americas.shell.com',\n",
       " 'GEOTOMO_LICENSE_FILE': '3071@geotomo_eu_gls_core1.europe.shell.com',\n",
       " 'GIT_PAGER': 'cat',\n",
       " 'GOBIN': 'c:\\\\Apps\\\\0Projects\\\\xbiosckon\\\\go-proj\\\\bin',\n",
       " 'GOCADLMD_LICENSE_FILE': '3012@MUNTSE-S-09786.europe.shell.com;3012@HOUCY1-S-07016.americas.shell.com;3012@PEJJBT-S-08251.asia-pac.shell.com',\n",
       " 'GOPATH': 'C:\\\\Apps\\\\0Projects\\\\xbiosckon\\\\go-proj',\n",
       " 'GOROOT': 'C:\\\\Apps\\\\Go',\n",
       " 'GTC_LICENSE_FILE': '3005@ams1-s-07489.europe.shell.com',\n",
       " 'HAMP-RUSS_LICENSE_FILE': '3060@ams1-s-07489.europe.shell.com',\n",
       " 'HAMP_RUSS_LICENSE_FILE': '3060@hamp_russ_eu_gls_core1.europe.shell.com;3060@hamp_russ_AP_gls_core1.asia-pac.shell.com;3060@hamp_russ_am_gls_core1.americas.shell.com',\n",
       " 'HOME': 'c:\\\\Users\\\\Igor.Kim',\n",
       " 'HOMEDRIVE': 'H:',\n",
       " 'HOMEPATH': '\\\\',\n",
       " 'HOMESHARE': '\\\\\\\\amsdc1-na-v517.europe.shell.com\\\\QTHOME035\\\\Igor.Kim\\\\Home',\n",
       " 'HPQ_LICENSE_FILE': '3019@hpq_eu_gls_core1.europe.shell.com;3019@hpq_AP_gls_core1.asia-pac.shell.com;3019@hpq_am_gls_core1.americas.shell.com',\n",
       " 'HRH_LICENSE_FILE': '3013@hrh_eu_gls_core1.europe.shell.com;3013@hrh_am_gls_core1.americas.shell.com',\n",
       " 'HTTPS_PROXY': 'https://zproxy-amsdc1:8080',\n",
       " 'HTTP_PROXY': 'http://zproxy-amsdc1:8080',\n",
       " 'HWENGINEERINGDATA': 'C:\\\\ProgramData\\\\Honeywell\\\\EngineeringData',\n",
       " 'HWINSTALLPATH': 'C:\\\\Program Files (x86)\\\\Honeywell',\n",
       " 'HWPRODUCTCONFIG': 'C:\\\\ProgramData\\\\Honeywell\\\\ProductConfig',\n",
       " 'HWPROGRAMDATA': 'C:\\\\ProgramData\\\\Honeywell',\n",
       " 'HWSECURITYPATH': 'C:\\\\ProgramData\\\\Honeywell\\\\ProductConfig\\\\Security',\n",
       " 'IHS_LICENSE_FILE': '3033@ihs_eu_gls_core1.europe.shell.com;3033@ihs_AP_gls_core1.asia-pac.shell.com;3033@ihs_am_gls_core1.americas.shell.com',\n",
       " 'IKON_LICENSE_FILE': '3024@ikon_eu_gls_core1.europe.shell.com;3024@ikon_AP_gls_core1.asia-pac.shell.com;3024@ikon_am_gls_core1.americas.shell.com',\n",
       " 'IKON_ROKDOC_MX': '12000',\n",
       " 'IMSTATUS': '\\\\\\\\AMSDC1-S-55017.europe.shell.com\\\\IMSTATUS$',\n",
       " 'INGRTS_LICENSE_FILE': '3064@ingrts_eu_gls_core1.europe.shell.com;3064@ingrts_AP_gls_core1.asia-pac.shell.com;3064@ingrts_am_gls_core1.americas.shell.com',\n",
       " 'INSITE_LANGUAGE_SELECTION': 'English',\n",
       " 'INSITE_ROOT': 'C:\\\\Apps\\\\Halliburton\\\\DS_INSITE\\\\INSITE',\n",
       " 'INTEL_LICENSE_FILE': '3055@intel_eu_gls_so1.europe.shell.com;3055@intel_ap_gls_so1.asia-pac.shell.com;3055@intel_am_gls_so1.americas.shell.com',\n",
       " 'IPASSI_LICENSE_FILE': '3065@ipassi_eu_gls_core1.europe.shell.com;3065@ipassi_AP_gls_core1.asia-pac.shell.com;3065@ipassi_am_gls_core1.americas.shell.com',\n",
       " 'IPY_INTERRUPT_EVENT': '1312',\n",
       " 'IVS_LICENSE_FILE': '3058@ivs_eu_gls_core1.europe.shell.com',\n",
       " 'JASONLM_LICENSE_FILE': '3034@jasonlm_eu_gls_core1.europe.shell.com',\n",
       " 'JAVAWS_VM_ARGS': '-Dsun.java2d.noddraw=true',\n",
       " 'JOA_LICENSE_FILE': '3100@joa_eu_gls_core1.europe.shell.com;3100@joa_AP_gls_core1.asia-pac.shell.com;3100@joa_am_gls_core1.americas.shell.com',\n",
       " 'JPY_INTERRUPT_EVENT': '1312',\n",
       " 'JPY_PARENT_PID': '1288',\n",
       " 'JULIA_PKGDIR': 'C:\\\\Apps\\\\Utils\\\\Julia_PKGDIR',\n",
       " 'JUSTINT_LICENSE_FILE': '3075@justint_eu_gls_core1.europe.shell.com;3075@justint_AP_gls_core1.asia-pac.shell.com;3075@justint_am_gls_core1.americas.shell.com',\n",
       " 'KAPPA_LICENSE_FILE': '3027@kappa_eu_gls_core1.europe.shell.com;3027@kappa_AP_gls_core1.asia-pac.shell.com;3027@kappa_am_gls_core1.americas.shell.com',\n",
       " 'KNOWSYS_LICENSE_FILE': '3011@knowsys_eu_gls_core2.europe.shell.com;3011@knowsys_AP_gls_core1.asia-pac.shell.com;3011@knowsys_am_gls_core1.americas.shell.com',\n",
       " 'LCT_LMD_LICENSE_FILE': '3049@lct_lmd_eu_gls_core1.europe.shell.com;3049@lct_lmd_AP_gls_core1.asia-pac.shell.com;3049@lct_lmd_am_gls_core1.americas.shell.com',\n",
       " 'LGCX_LICENSE_FILE': '3009@lgcx_eu_gls_core2.europe.shell.com;3009@lgcx_AP_gls_core1.asia-pac.shell.com;3009@lgcx_am_gls_core1.americas.shell.com',\n",
       " 'LICSRV_LICENSE_FILE': '3004@licsrv_eu_gls_core2.europe.shell.com;3004@licsrv_AP_gls_core1.asia-pac.shell.com;3004@licsrv_am_gls_core1.americas.shell.com;c:\\\\program files\\\\flexlm\\\\licenses\\\\licenses.dat',\n",
       " 'LMCOMSOL_LICENSE_FILE': '3072@ams1-s-07489.europe.shell.com ',\n",
       " 'LMGRD.SLB_LICENSE_FILE': '3001@slbsls_eu_gls_core1.europe.shell.com;3001@slbsls_AP_gls_core1.asia-pac.shell.com;3001@slbsls_am_gls_core1.americas.shell.com',\n",
       " 'LM_LICENSE_FILE': 'C:\\\\LANDMARK\\\\LAM;3029@AMS1-S-07489.europe.shell.com;3029@HOUIC-S-9320.americas.shell.com;C:\\\\Program Files (x86)\\\\Halliburton\\\\LAM',\n",
       " 'LM_PROJECT': 'GSNL',\n",
       " 'LOCALAPPDATA': 'C:\\\\Users\\\\Igor.Kim\\\\AppData\\\\Local',\n",
       " 'LOGONSERVER': '\\\\\\\\AMSDC1-S-50209',\n",
       " 'LSHOST': 'sentinel_eu_gls_core1.europe.shell.com:sentinel_AP_gls_core1.asia-pac.shell.com:sentinel_am_gls_core1.americas.shell.com:GSWTCW0272.americas.shell.com',\n",
       " 'MAGICBUS': '1',\n",
       " 'MARINLMD_LICENSE_FILE': '3062@marinlmd_eu_gls_core1.europe.shell.com',\n",
       " 'MCSLMD_LICENSE_FILE': '3015@mcslmd_eu_gls_core1.europe.shell.com;3015@mcslmd_AP_gls_core1.asia-pac.shell.com;3015@mcslmd_am_gls_core1.americas.shell.com',\n",
       " 'MDAXBBWC_LICENSE_FILE': '3006@mdaxbbwc_eu_gls_core1.europe.shell.com;3006@mdaxbbwc_AP_gls_core1.asia-pac.shell.com;3006@mdaxbbwc_am_gls_core1.americas.shell.com',\n",
       " 'METAWINPATH': 'C:\\\\Apps\\\\9BHI_SLB_HAL_Soft\\\\BHI\\\\metaview',\n",
       " 'MINGW_HOME': 'C:\\\\Apps\\\\msys64\\\\mingw64',\n",
       " 'MINITAB_LICENSE_FILE': '3047@minitab_eu_gls_core1.europe.shell.com',\n",
       " 'MLM_LICENSE_FILE': '3038@mlm_eu_gls_core1.europe.shell.com;3038@mlm_AP_gls_core1.asia-pac.shell.com;3038@mlm_am_gls_core1.americas.shell.com',\n",
       " 'MPLBACKEND': 'module://ipykernel.pylab.backend_inline',\n",
       " 'MSC_LICENSE_FILE': '3044@ams1-s-07489.europe.shell.com',\n",
       " 'MSIPATH1': '\\\\\\\\europe.shell.com\\\\general\\\\rijpat\\\\DIST$',\n",
       " 'MSIPATH2': 'C:\\\\MSI',\n",
       " 'MSIPATH3': '\\\\\\\\europe.shell.com\\\\general\\\\rijpat\\\\uft$',\n",
       " 'MVELD_LICENSE_FILE': '3073@mveld_eu_gls_core1.europe.shell.com;3073@mveld_AP_gls_core1.asia-pac.shell.com;3073@mveld_am_gls_core1.americas.shell.com',\n",
       " 'NDI_ACTIVE_DIRECTORY_ID': 'NLIKIA',\n",
       " 'NSITECHN_LICENSE_FILE': '3079@nsitechn_eu_gls_core1.europe.shell.com;3079@nsitechn_AP_gls_core1.asia-pac.shell.com;3079@nsitechn_am_gls_core1.americas.shell.com',\n",
       " 'NUMBER_OF_PROCESSORS': '8',\n",
       " 'OCEAN2013HOME': 'C:\\\\Program Files\\\\Schlumberger\\\\Petrel 2013\\\\',\n",
       " 'OCEAN2013HOME_X64': 'C:\\\\Program Files\\\\Schlumberger\\\\Petrel 2013\\\\',\n",
       " 'ODM_LICENSE_FILE': '3069@odm_eu_gls_core1.europe.shell.com',\n",
       " 'OLGASX64': 'C:\\\\Program Files (x86)\\\\Schlumberger\\\\OLGA-S 2014.2.0\\\\Win64',\n",
       " 'OLGASX64_2014.2.0': 'C:\\\\Program Files (x86)\\\\Schlumberger\\\\OLGA-S 2014.2.0\\\\Win64',\n",
       " 'OLGASX86': 'C:\\\\Program Files (x86)\\\\Schlumberger\\\\OLGA-S 2014.2.0\\\\Win32',\n",
       " 'OLGASX86_2014.2.0': 'C:\\\\Program Files (x86)\\\\Schlumberger\\\\OLGA-S 2014.2.0\\\\Win32',\n",
       " 'OS': 'Windows_NT',\n",
       " 'OSCE_SERVER1': 'amsdc1-s-03405.europe.shell.com',\n",
       " 'OSCE_SERVER10': 'amsdc1-s-03405.europe.shell.com',\n",
       " 'OSCE_SERVER2': 'amsdc1-s-03405.europe.shell.com',\n",
       " 'OSCE_SERVER3': 'amsdc1-s-03405.europe.shell.com',\n",
       " 'OSCE_SERVER4': 'amsdc1-s-03405.europe.shell.com',\n",
       " 'OSCE_SERVER5': 'amsdc1-s-03405.europe.shell.com',\n",
       " 'OSCE_SERVER6': 'amsdc1-s-03405.europe.shell.com',\n",
       " 'OSCE_SERVER7': 'amsdc1-s-03405.europe.shell.com',\n",
       " 'OSCE_SERVER8': 'amsdc1-s-03405.europe.shell.com',\n",
       " 'OSCE_SERVER9': 'amsdc1-s-03405.europe.shell.com',\n",
       " 'OSP_LICENSE_FILE': '3020@osp_eu_gls_core2.europe.shell.com',\n",
       " 'OZEMACS': 'C:\\\\Apps\\\\Utils\\\\Mozart\\\\opt\\\\bin\\\\runemacs.exe',\n",
       " 'OZHOME': 'C:\\\\Apps\\\\Utils\\\\Mozart',\n",
       " 'PAGER': 'cat',\n",
       " 'PALISADE_LICENSE_FILE': '3023@palisade_eu_gls_core1.europe.shell.com;3023@palisade_AP_gls_core1.asia-pac.shell.com;3023@palisade_am_gls_core1.americas.shell.com',\n",
       " 'PATH': 'C:\\\\Apps\\\\Utils\\\\Anaconda2\\\\Library\\\\bin;C:\\\\Apps\\\\Utils\\\\Anaconda2\\\\Library\\\\bin;C:\\\\Apps\\\\Utils\\\\Anaconda2;C:\\\\Apps\\\\Utils\\\\Anaconda2\\\\Library\\\\mingw-w64\\\\bin;C:\\\\Apps\\\\Utils\\\\Anaconda2\\\\Library\\\\usr\\\\bin;C:\\\\Apps\\\\Utils\\\\Anaconda2\\\\Library\\\\bin;C:\\\\Apps\\\\Utils\\\\Anaconda2\\\\Scripts;C:\\\\Apps\\\\Utils\\\\Anaconda2\\\\Library\\\\bin;c:\\\\Rtools\\\\bin;c:\\\\Rtools\\\\mingw_32\\\\bin;C:\\\\Apps\\\\Utils\\\\Rtools\\\\bin;C:\\\\Apps\\\\Utils\\\\Rtools\\\\mingw_32\\\\bin;C:\\\\ProgramData\\\\Oracle\\\\Java\\\\javapath;C:\\\\Apps\\\\Utils\\\\Rtools\\\\bin;C:\\\\Apps\\\\Utils\\\\Rtools\\\\gcc-4.6.3\\\\bin;%F_IA32_REDIST11%bin\\\\ia32;C:\\\\Program Files (x86)\\\\Intel\\\\iCLS Client\\\\;C:\\\\Program Files\\\\Intel\\\\iCLS Client\\\\;C:\\\\Windows\\\\system32;C:\\\\Windows;C:\\\\Windows\\\\System32\\\\Wbem;C:\\\\Windows\\\\System32\\\\WindowsPowerShell\\\\v1.0\\\\;C:\\\\Program Files\\\\Gemalto\\\\Access Client\\\\v5\\\\;C:\\\\Program Files (x86)\\\\Gemalto\\\\Access Client\\\\v5\\\\;C:\\\\Program Files (x86)\\\\ActivIdentity\\\\SecureLogin\\\\;C:\\\\Oracle\\\\10g\\\\FullClient\\\\BIN\\\\;C:\\\\Oracle\\\\11g\\\\FullClient\\\\bin\\\\;C:\\\\Program Files (x86)\\\\Common Files\\\\Roxio Shared\\\\DLLShared\\\\;C:\\\\Program Files\\\\Intel\\\\Intel(R) Management Engine Components\\\\DAL;C:\\\\Program Files\\\\Intel\\\\Intel(R) Management Engine Components\\\\IPT;C:\\\\Program Files (x86)\\\\Intel\\\\Intel(R) Management Engine Components\\\\DAL;C:\\\\Program Files (x86)\\\\Intel\\\\Intel(R) Management Engine Components\\\\IPT;C:\\\\Program Files (x86)\\\\Honeywell\\\\Common\\\\;C:\\\\Apps\\\\9BHI_SLB_HAL_Soft\\\\HAL\\\\PS1\\\\bin;C:\\\\Apps\\\\msys64\\\\usr\\\\bin;C:\\\\Program Files (x86)\\\\Riverbed\\\\Steelhead Mobile\\\\;C:\\\\Program Files\\\\1E\\\\NomadBranch\\\\;C:\\\\Windows\\\\System32\\\\WindowsPowerShell\\\\v1.0\\\\;C:\\\\Apps\\\\9BHI_SLB_HAL_Soft\\\\HAL\\\\WLDT\\\\Bin;C:\\\\Apps\\\\Utils\\\\Git\\\\cmd;C:\\\\Apps\\\\Utils\\\\Mozart\\\\bin;C:\\\\Apps\\\\Utils\\\\nodejs\\\\;C:\\\\Windows\\\\System32\\\\WindowsPowerShell\\\\v1.0\\\\;C:\\\\Program Files\\\\MATLAB\\\\MATLAB Compiler Runtime\\\\v83\\\\runtime\\\\win64;C:\\\\Apps\\\\Go\\\\bin;C:\\\\Program Files (x86)\\\\SPT Group\\\\FlexLm;C:\\\\Windows\\\\SysWOW64\\\\;C:\\\\Windows;C:\\\\Windows\\\\SysWOW64\\\\Wbem;C:\\\\Windows\\\\SysWOW64\\\\WindowsPowerShell\\\\v1.0;C:\\\\Program Files (x86)\\\\Schlumberger\\\\OLGA-S 2014.2.0\\\\Win32;C:\\\\Program Files (x86)\\\\Schlumberger\\\\OLGA-S 2014.2.0\\\\Win64;C:\\\\Apps\\\\Halliburton\\\\DS_INSITE\\\\INSITE\\\\bin;C:\\\\Apps\\\\Halliburton\\\\DS_INSITE\\\\INSITE\\\\Direct;C:\\\\Apps\\\\Halliburton\\\\DS_INSITE\\\\INSITE\\\\Direct\\\\jdk\\\\jre\\\\bin;C:\\\\Apps\\\\Halliburton\\\\DS_INSITE\\\\INSITE\\\\Plotting\\\\bin\\\\;C:\\\\Apps\\\\Halliburton\\\\WirelineDesktop\\\\\\\\Bin;C:\\\\Apps\\\\Halliburton\\\\RTS\\\\bin;C:\\\\Apps\\\\Utils\\\\LLVM\\\\bin;C:\\\\Program Files\\\\MATLAB\\\\MATLAB Runtime\\\\v90\\\\runtime\\\\win64;C:\\\\Apps\\\\Utils\\\\Anaconda2;C:\\\\Apps\\\\Utils\\\\Anaconda2\\\\Scripts;C:\\\\Apps\\\\Utils\\\\Anaconda2\\\\Library\\\\bin;C:\\\\Apps\\\\utils\\\\sysinternals;C:\\\\Apps\\\\utils\\\\unixutils\\\\usr\\\\local\\\\wbin;C:\\\\Program Files (x86)\\\\IDM Computer Solutions\\\\UltraEdit\\\\;C:\\\\Program Files\\\\WinZip;C:\\\\Apps\\\\Utils\\\\zeromq-4.1.2;C:\\\\Apps\\\\Go\\\\bin;C:\\\\Apps\\\\0Projects\\\\xbiosckon\\\\go-proj\\\\bin;c:\\\\Apps\\\\0Projects\\\\xbiosckon\\\\go-proj\\\\bin\\\\windows_386;C:\\\\Users\\\\Igor.Kim\\\\AppData\\\\Local\\\\atom\\\\bin;C:\\\\Users\\\\Igor.Kim\\\\AppData\\\\Roaming\\\\npm;C:\\\\Users\\\\Igor.Kim\\\\AppData\\\\Local\\\\rodeo\\\\app-2.4.3\\\\bin;C:\\\\Users\\\\Igor.Kim\\\\AppData\\\\Local\\\\Enthought\\\\Canopy\\\\User;C:\\\\Users\\\\Igor.Kim\\\\AppData\\\\Local\\\\Enthought\\\\Canopy\\\\User\\\\Scripts;C:\\\\Apps\\\\Geoduck\\\\bin\\\\;C:\\\\Apps\\\\Geoduck\\\\embedded\\\\',\n",
       " 'PATHEXT': '.COM;.EXE;.BAT;.CMD;.VBS;.VBE;.JS;.JSE;.WSF;.WSH;.MSC',\n",
       " 'PERTMAST_LICENSE_FILE': '3058@AMSDC1-S-7225.europe.shell.com;3058@CBJ-S-7018.asia-pac.shell.com;3058@HOUIC-S-7050.americas.shell.com',\n",
       " 'PETEXFLM_LICENSE_FILE': '3007@MUNTSE-S-09786.europe.shell.com;3007@PEJJBT-S-08251.asia-pac.shell.com;3007@HOUCY1-S-07016.americas.shell.com',\n",
       " 'PETNEWFL_LICENSE_FILE': '3021@petnewfl_eu_gls_core1.europe.shell.com;3021@petnewfl_AP_gls_core1.asia-pac.shell.com;3021@petnewfl_am_gls_core1.americas.shell.com',\n",
       " 'PETROSITE_ROOT': 'C:\\\\Apps\\\\Halliburton\\\\RTS\\\\',\n",
       " 'PETROSYS_LICENSE_FILE': '3050@petrosys_eu_gls_core1.europe.shell.com;3050@petrosys_AP_gls_core1.asia-pac.shell.com;3050@petrosys_am_gls_core1.americas.shell.com',\n",
       " 'PGROUPD_LICENSE_FILE': '3067@pgroupd_eu_gls_core1.europe.shell.com;3067@pgroupd_am_gls_core1.americas.shell.com',\n",
       " 'PIHOME': 'C:\\\\Program Files (x86)\\\\PIPC',\n",
       " 'PLATO_HOME': 'C:\\\\Program Files\\\\Plato\\\\Plato V6.0.12 MAPS\\\\Bin',\n",
       " 'PLMVIS_82_LIBPATH': 'C:\\\\Program Files\\\\SAP\\\\FrontEnd\\\\SAPgui\\\\Program',\n",
       " 'PRDM_GEO_LICENSE_FILE': '3012@prdm_geo_eu_gls_core1.europe.shell.com;3012@prdm_geo_AP_gls_core1.asia-pac.shell.com;3012@prdm_geo_am_gls_core1.americas.shell.com',\n",
       " 'PROCESSOR_ARCHITECTURE': 'AMD64',\n",
       " 'PROCESSOR_IDENTIFIER': 'Intel64 Family 6 Model 60 Stepping 3, GenuineIntel',\n",
       " 'PROCESSOR_LEVEL': '6',\n",
       " 'PROCESSOR_REVISION': '3c03',\n",
       " 'PROGRAMDATA': 'C:\\\\ProgramData',\n",
       " 'PROGRAMFILES': 'C:\\\\Program Files',\n",
       " 'PROGRAMFILES(X86)': 'C:\\\\Program Files (x86)',\n",
       " 'PROGRAMW6432': 'C:\\\\Program Files',\n",
       " 'PSELMD_LICENSE_FILE': '3041@pselmd_eu_gls_core1.europe.shell.com',\n",
       " 'PSG_LICENSE_FILE': '3028@psg_eu_gls_core1.europe.shell.com',\n",
       " 'PSMODULEPATH': 'C:\\\\Program Files\\\\WindowsPowerShell\\\\Modules;C:\\\\Windows\\\\system32\\\\WindowsPowerShell\\\\v1.0\\\\Modules',\n",
       " 'PTC_D_LICENSE_FILE': '3084@ptc_d_am_gls_core1.americas.shell.com',\n",
       " 'PUBLIC': 'C:\\\\Users\\\\Public',\n",
       " 'PYTHONPATH': 'C:\\\\Apps\\\\0Projects\\\\xbiosckon\\\\pythonpath',\n",
       " 'QEDILM_LICENSE_FILE': '3025@qedilm_eu_gls_core1.europe.shell.com;3025@qedilm_AP_gls_core1.asia-pac.shell.com;3025@qedilm_phc_gls_core1.africa-me.shell.com;3025@qedilm_am_gls_core1.americas.shell.com',\n",
       " 'QUEST_LICENSE': '3212@amsdc1-s-7225.europe.shell.com;3212@houic-s-7050.americas.shell.com;3212@cbj-s-7018.asia-pac.shell.com',\n",
       " 'REALCHRT_LICENSE_FILE': '3002@realchrt_eu_gls_core1.europe.shell.com;3002@realchrt_AP_gls_core1.asia-pac.shell.com;3002@realchrt_am_gls_core1.americas.shell.com',\n",
       " 'RECALL5_LICENSE_FILE': '3061@recall5_eu_gls_core2.europe.shell.com;3061@recall5_AP_gls_core1.asia-pac.shell.com;3061@recall5_am_gls_core1.americas.shell.com',\n",
       " 'RLM_PROJECT': 'GSNL',\n",
       " 'SACSEDI_LICENSE_FILE': '3096@HOUIC-S-9320.americas.shell.com',\n",
       " 'SAFE_LICENSE_FILE': '3018@safe_eu_gls_core1.europe.shell.com;3018@safe_AP_gls_core1.asia-pac.shell.com;3018@safe_am_gls_core1.americas.shell.com',\n",
       " 'SAPLOGON_INI_FILE': 'c:\\\\windows\\\\saplogon.ini',\n",
       " 'SCPLMD_LICENSE_FILE': '3029@scplmd_eu_gls_core1.europe.shell.com;3029@scplmd_AP_gls_core1.asia-pac.shell.com;3029@scplmd_am_gls_core1.americas.shell.com',\n",
       " 'SESSIONNAME': 'Console',\n",
       " 'SIEPRTS_LICENSE_FILE': '3000@sieprts_eu_gls_core1.europe.shell.com;3000@sieprts_AP_gls_core1.asia-pac.shell.com;3000@sieprts_am_gls_core1.americas.shell.com',\n",
       " 'SLBFD_LICENSE_FILE': '3001@slbsls_eu_gls_core1.europe.shell.com;3001@slbsls_AP_gls_core1.asia-pac.shell.com;3001@slbsls_am_gls_core1.americas.shell.com',\n",
       " 'SLBSLS_LICENSE_FILE': '3001@slbsls_eu_gls_core1.europe.shell.com;3001@slbsls_AP_gls_core1.asia-pac.shell.com;3001@slbsls_am_gls_core1.americas.shell.com',\n",
       " 'SNC_LIB': 'C:\\\\Program Files (x86)\\\\SAP\\\\FrontEnd\\\\SecureLogin\\\\lib\\\\sapcrypto.dll',\n",
       " 'SNC_LIB_64': 'C:\\\\Program Files\\\\SAP\\\\FrontEnd\\\\SecureLogin\\\\lib\\\\sapcrypto.dll',\n",
       " 'SPLMCS_LICENSE_FILE': '3080@splmcs_eu_gls_core1.europe.shell.com;3080@splmcs_AP_gls_core1.asia-pac.shell.com;3080@splmcs_am_gls_core1.americas.shell.com',\n",
       " 'SSF_LIBRARY_PATH': 'C:\\\\Program Files (x86)\\\\SAP\\\\FrontEnd\\\\SecureLogin\\\\lib\\\\sapcrypto.dll',\n",
       " 'SSF_LIBRARY_PATH_64': 'C:\\\\Program Files\\\\SAP\\\\FrontEnd\\\\SecureLogin\\\\lib\\\\sapcrypto.dll',\n",
       " 'STA_FLXM_LICENSE_FILE': '3056@sta_flxm_eu_gls_core1.europe.shell.com',\n",
       " 'STRATADATA_LICENSE': '3221@stratadata_eu_gls_core1.europe.shell.com',\n",
       " 'STRSOLV_LICENSE_FILE': '3058@HOUCY1-S-07400.americas.shell.com',\n",
       " 'SWRAP_LICENSE_FILE': '3089@swrap_eu_gls_core1.europe.shell.com;3089@swrap_AP_gls_core1.asia-pac.shell.com;3089@swrap_am_gls_core1.americas.shell.com',\n",
       " 'SYSTEMDRIVE': 'C:',\n",
       " 'SYSTEMROOT': 'C:\\\\Windows',\n",
       " 'TCL_LIBRARY': 'C:\\\\Apps\\\\Utils\\\\Anaconda2\\\\tcl\\\\tcl8.5',\n",
       " 'TECHSIA_LICENSE_FILE': '3054@AMS1-S-07489.asia-pac.shell.com;3054@CBJ-S-8447.asia-pac.shell.com;3054@HOUIC-S-9320.americas.shell.com',\n",
       " 'TELELOGIC_LICENSE_FILE': '3078@ibmratl_eu_gls_core1.europe.shell.com',\n",
       " 'TEMP': 'C:\\\\Users\\\\Igor.Kim\\\\AppData\\\\Local\\\\Temp',\n",
       " 'TERM': 'xterm-color',\n",
       " 'THERMOCORP_LICENSE_FILE': '3070@thermocorp_eu_gls_core1.europe.shell.com',\n",
       " 'TIX_LIBRARY': 'C:\\\\Apps\\\\Utils\\\\Anaconda2\\\\tcl\\\\tix8.4.3',\n",
       " 'TK_LIBRARY': 'C:\\\\Apps\\\\Utils\\\\Anaconda2\\\\tcl\\\\tk8.5',\n",
       " 'TLPREFERREDSEAT': 'techlogShell ',\n",
       " 'TMP': 'C:\\\\Users\\\\Igor.Kim\\\\AppData\\\\Local\\\\Temp',\n",
       " 'TNSNAMES': 'C:\\\\Oracle\\\\8i\\\\network\\\\ADMIN\\\\',\n",
       " 'TNS_ADMIN': 'C:\\\\Oracle\\\\8i\\\\network\\\\ADMIN',\n",
       " 'TOKEN_LICENSE_FILE': '3076@token_eu_gls_core1.europe.shell.com;3076@token_AP_gls_core1.asia-pac.shell.com;3076@token_am_gls_core1.americas.shell.com',\n",
       " 'TRAMONTA_LICENSE_FILE': '3044@tramonta_AP_gls_core1.asia-pac.shell.com',\n",
       " 'UATDATA': 'C:\\\\Windows\\\\CCM\\\\UATData\\\\D9F8C395-CAB8-491d-B8AC-179A1FE1BE77',\n",
       " 'USERDNSDOMAIN': 'EUROPE.SHELL.COM',\n",
       " 'USERDOMAIN': 'EUROPE',\n",
       " 'USERDOMAIN_ROAMINGPROFILE': 'EUROPE',\n",
       " 'USERNAME': 'Igor.Kim',\n",
       " 'USERPROFILE': 'C:\\\\Users\\\\Igor.Kim',\n",
       " 'USE_REPORT_SERVER': '1',\n",
       " 'VRCONTXT_LICENSE_FILE': '3043@vrcontxt_eu_gls_core1.europe.shell.com;3043@vrcontxt_am_gls_core1.americas.shell.com;3043@vrcontxt_AP_gls_core1.asia-pac.shell.com;3043@vrcontxt_phc_gls_core1.africa-me.shell.com; \";C:\\\\Program Files\\\\COMOS\\\\COMOS Walkinside 7.0 (64 bit)\\\\VRLicense',\n",
       " 'WINDIR': 'C:\\\\Windows',\n",
       " 'WINDOWS_TRACING_FLAGS': '3',\n",
       " 'WINDOWS_TRACING_LOGFILE': 'C:\\\\BVTBin\\\\Tests\\\\installpackage\\\\csilogfile.log',\n",
       " 'WIRELINEDESKTOP_ROOT': 'C:\\\\Apps\\\\Halliburton\\\\WirelineDesktop\\\\',\n",
       " 'WLIC_ROOT': 'C:\\\\Apps\\\\9BHI_SLB_HAL_Soft\\\\HAL\\\\WLIC\\\\',\n",
       " '_NT_SYMBOL_PATH': 'C:\\\\Windows\\\\symbols;C:\\\\Windows\\\\symbols\\\\dll'}"
      ]
     },
     "execution_count": 10,
     "metadata": {},
     "output_type": "execute_result"
    }
   ],
   "source": [
    "\n",
    "# %env"
   ]
  },
  {
   "cell_type": "code",
   "execution_count": 11,
   "metadata": {
    "collapsed": false
   },
   "outputs": [
    {
     "ename": "URLError",
     "evalue": "<urlopen error [Errno 10060] A connection attempt failed because the connected party did not properly respond after a period of time, or established connection failed because connected host has failed to respond>",
     "output_type": "error",
     "traceback": [
      "\u001b[0;31m---------------------------------------------------------------------------\u001b[0m",
      "\u001b[0;31mURLError\u001b[0m                                  Traceback (most recent call last)",
      "\u001b[0;32m<ipython-input-11-1413a321c181>\u001b[0m in \u001b[0;36m<module>\u001b[0;34m()\u001b[0m\n\u001b[0;32m----> 1\u001b[0;31m \u001b[0mpd\u001b[0m\u001b[1;33m.\u001b[0m\u001b[0mread_html\u001b[0m\u001b[1;33m(\u001b[0m\u001b[1;34m'https://www.bloomberg.com/markets/stocks/futures'\u001b[0m\u001b[1;33m)\u001b[0m\u001b[1;33m\u001b[0m\u001b[0m\n\u001b[0m",
      "\u001b[0;32mC:\\Apps\\Utils\\Anaconda2\\lib\\site-packages\\pandas\\io\\html.pyc\u001b[0m in \u001b[0;36mread_html\u001b[0;34m(io, match, flavor, header, index_col, skiprows, attrs, parse_dates, tupleize_cols, thousands, encoding, decimal, converters, na_values, keep_default_na)\u001b[0m\n\u001b[1;32m    894\u001b[0m                   \u001b[0mthousands\u001b[0m\u001b[1;33m=\u001b[0m\u001b[0mthousands\u001b[0m\u001b[1;33m,\u001b[0m \u001b[0mattrs\u001b[0m\u001b[1;33m=\u001b[0m\u001b[0mattrs\u001b[0m\u001b[1;33m,\u001b[0m \u001b[0mencoding\u001b[0m\u001b[1;33m=\u001b[0m\u001b[0mencoding\u001b[0m\u001b[1;33m,\u001b[0m\u001b[1;33m\u001b[0m\u001b[0m\n\u001b[1;32m    895\u001b[0m                   \u001b[0mdecimal\u001b[0m\u001b[1;33m=\u001b[0m\u001b[0mdecimal\u001b[0m\u001b[1;33m,\u001b[0m \u001b[0mconverters\u001b[0m\u001b[1;33m=\u001b[0m\u001b[0mconverters\u001b[0m\u001b[1;33m,\u001b[0m \u001b[0mna_values\u001b[0m\u001b[1;33m=\u001b[0m\u001b[0mna_values\u001b[0m\u001b[1;33m,\u001b[0m\u001b[1;33m\u001b[0m\u001b[0m\n\u001b[0;32m--> 896\u001b[0;31m                   keep_default_na=keep_default_na)\n\u001b[0m",
      "\u001b[0;32mC:\\Apps\\Utils\\Anaconda2\\lib\\site-packages\\pandas\\io\\html.pyc\u001b[0m in \u001b[0;36m_parse\u001b[0;34m(flavor, io, match, attrs, encoding, **kwargs)\u001b[0m\n\u001b[1;32m    731\u001b[0m             \u001b[1;32mbreak\u001b[0m\u001b[1;33m\u001b[0m\u001b[0m\n\u001b[1;32m    732\u001b[0m     \u001b[1;32melse\u001b[0m\u001b[1;33m:\u001b[0m\u001b[1;33m\u001b[0m\u001b[0m\n\u001b[0;32m--> 733\u001b[0;31m         \u001b[0mraise_with_traceback\u001b[0m\u001b[1;33m(\u001b[0m\u001b[0mretained\u001b[0m\u001b[1;33m)\u001b[0m\u001b[1;33m\u001b[0m\u001b[0m\n\u001b[0m\u001b[1;32m    734\u001b[0m \u001b[1;33m\u001b[0m\u001b[0m\n\u001b[1;32m    735\u001b[0m     \u001b[0mret\u001b[0m \u001b[1;33m=\u001b[0m \u001b[1;33m[\u001b[0m\u001b[1;33m]\u001b[0m\u001b[1;33m\u001b[0m\u001b[0m\n",
      "\u001b[0;32mC:\\Apps\\Utils\\Anaconda2\\lib\\site-packages\\pandas\\io\\html.pyc\u001b[0m in \u001b[0;36m_parse\u001b[0;34m(flavor, io, match, attrs, encoding, **kwargs)\u001b[0m\n\u001b[1;32m    725\u001b[0m \u001b[1;33m\u001b[0m\u001b[0m\n\u001b[1;32m    726\u001b[0m         \u001b[1;32mtry\u001b[0m\u001b[1;33m:\u001b[0m\u001b[1;33m\u001b[0m\u001b[0m\n\u001b[0;32m--> 727\u001b[0;31m             \u001b[0mtables\u001b[0m \u001b[1;33m=\u001b[0m \u001b[0mp\u001b[0m\u001b[1;33m.\u001b[0m\u001b[0mparse_tables\u001b[0m\u001b[1;33m(\u001b[0m\u001b[1;33m)\u001b[0m\u001b[1;33m\u001b[0m\u001b[0m\n\u001b[0m\u001b[1;32m    728\u001b[0m         \u001b[1;32mexcept\u001b[0m \u001b[0mException\u001b[0m \u001b[1;32mas\u001b[0m \u001b[0mcaught\u001b[0m\u001b[1;33m:\u001b[0m\u001b[1;33m\u001b[0m\u001b[0m\n\u001b[1;32m    729\u001b[0m             \u001b[0mretained\u001b[0m \u001b[1;33m=\u001b[0m \u001b[0mcaught\u001b[0m\u001b[1;33m\u001b[0m\u001b[0m\n",
      "\u001b[0;32mC:\\Apps\\Utils\\Anaconda2\\lib\\site-packages\\pandas\\io\\html.pyc\u001b[0m in \u001b[0;36mparse_tables\u001b[0;34m(self)\u001b[0m\n\u001b[1;32m    194\u001b[0m \u001b[1;33m\u001b[0m\u001b[0m\n\u001b[1;32m    195\u001b[0m     \u001b[1;32mdef\u001b[0m \u001b[0mparse_tables\u001b[0m\u001b[1;33m(\u001b[0m\u001b[0mself\u001b[0m\u001b[1;33m)\u001b[0m\u001b[1;33m:\u001b[0m\u001b[1;33m\u001b[0m\u001b[0m\n\u001b[0;32m--> 196\u001b[0;31m         \u001b[0mtables\u001b[0m \u001b[1;33m=\u001b[0m \u001b[0mself\u001b[0m\u001b[1;33m.\u001b[0m\u001b[0m_parse_tables\u001b[0m\u001b[1;33m(\u001b[0m\u001b[0mself\u001b[0m\u001b[1;33m.\u001b[0m\u001b[0m_build_doc\u001b[0m\u001b[1;33m(\u001b[0m\u001b[1;33m)\u001b[0m\u001b[1;33m,\u001b[0m \u001b[0mself\u001b[0m\u001b[1;33m.\u001b[0m\u001b[0mmatch\u001b[0m\u001b[1;33m,\u001b[0m \u001b[0mself\u001b[0m\u001b[1;33m.\u001b[0m\u001b[0mattrs\u001b[0m\u001b[1;33m)\u001b[0m\u001b[1;33m\u001b[0m\u001b[0m\n\u001b[0m\u001b[1;32m    197\u001b[0m         \u001b[1;32mreturn\u001b[0m \u001b[1;33m(\u001b[0m\u001b[0mself\u001b[0m\u001b[1;33m.\u001b[0m\u001b[0m_build_table\u001b[0m\u001b[1;33m(\u001b[0m\u001b[0mtable\u001b[0m\u001b[1;33m)\u001b[0m \u001b[1;32mfor\u001b[0m \u001b[0mtable\u001b[0m \u001b[1;32min\u001b[0m \u001b[0mtables\u001b[0m\u001b[1;33m)\u001b[0m\u001b[1;33m\u001b[0m\u001b[0m\n\u001b[1;32m    198\u001b[0m \u001b[1;33m\u001b[0m\u001b[0m\n",
      "\u001b[0;32mC:\\Apps\\Utils\\Anaconda2\\lib\\site-packages\\pandas\\io\\html.pyc\u001b[0m in \u001b[0;36m_build_doc\u001b[0;34m(self)\u001b[0m\n\u001b[1;32m    448\u001b[0m     \u001b[1;32mdef\u001b[0m \u001b[0m_build_doc\u001b[0m\u001b[1;33m(\u001b[0m\u001b[0mself\u001b[0m\u001b[1;33m)\u001b[0m\u001b[1;33m:\u001b[0m\u001b[1;33m\u001b[0m\u001b[0m\n\u001b[1;32m    449\u001b[0m         \u001b[1;32mfrom\u001b[0m \u001b[0mbs4\u001b[0m \u001b[1;32mimport\u001b[0m \u001b[0mBeautifulSoup\u001b[0m\u001b[1;33m\u001b[0m\u001b[0m\n\u001b[0;32m--> 450\u001b[0;31m         return BeautifulSoup(self._setup_build_doc(), features='html5lib',\n\u001b[0m\u001b[1;32m    451\u001b[0m                              from_encoding=self.encoding)\n\u001b[1;32m    452\u001b[0m \u001b[1;33m\u001b[0m\u001b[0m\n",
      "\u001b[0;32mC:\\Apps\\Utils\\Anaconda2\\lib\\site-packages\\pandas\\io\\html.pyc\u001b[0m in \u001b[0;36m_setup_build_doc\u001b[0;34m(self)\u001b[0m\n\u001b[1;32m    441\u001b[0m \u001b[1;33m\u001b[0m\u001b[0m\n\u001b[1;32m    442\u001b[0m     \u001b[1;32mdef\u001b[0m \u001b[0m_setup_build_doc\u001b[0m\u001b[1;33m(\u001b[0m\u001b[0mself\u001b[0m\u001b[1;33m)\u001b[0m\u001b[1;33m:\u001b[0m\u001b[1;33m\u001b[0m\u001b[0m\n\u001b[0;32m--> 443\u001b[0;31m         \u001b[0mraw_text\u001b[0m \u001b[1;33m=\u001b[0m \u001b[0m_read\u001b[0m\u001b[1;33m(\u001b[0m\u001b[0mself\u001b[0m\u001b[1;33m.\u001b[0m\u001b[0mio\u001b[0m\u001b[1;33m)\u001b[0m\u001b[1;33m\u001b[0m\u001b[0m\n\u001b[0m\u001b[1;32m    444\u001b[0m         \u001b[1;32mif\u001b[0m \u001b[1;32mnot\u001b[0m \u001b[0mraw_text\u001b[0m\u001b[1;33m:\u001b[0m\u001b[1;33m\u001b[0m\u001b[0m\n\u001b[1;32m    445\u001b[0m             \u001b[1;32mraise\u001b[0m \u001b[0mValueError\u001b[0m\u001b[1;33m(\u001b[0m\u001b[1;34m'No text parsed from document: %s'\u001b[0m \u001b[1;33m%\u001b[0m \u001b[0mself\u001b[0m\u001b[1;33m.\u001b[0m\u001b[0mio\u001b[0m\u001b[1;33m)\u001b[0m\u001b[1;33m\u001b[0m\u001b[0m\n",
      "\u001b[0;32mC:\\Apps\\Utils\\Anaconda2\\lib\\site-packages\\pandas\\io\\html.pyc\u001b[0m in \u001b[0;36m_read\u001b[0;34m(obj)\u001b[0m\n\u001b[1;32m    128\u001b[0m     \"\"\"\n\u001b[1;32m    129\u001b[0m     \u001b[1;32mif\u001b[0m \u001b[0m_is_url\u001b[0m\u001b[1;33m(\u001b[0m\u001b[0mobj\u001b[0m\u001b[1;33m)\u001b[0m\u001b[1;33m:\u001b[0m\u001b[1;33m\u001b[0m\u001b[0m\n\u001b[0;32m--> 130\u001b[0;31m         \u001b[1;32mwith\u001b[0m \u001b[0murlopen\u001b[0m\u001b[1;33m(\u001b[0m\u001b[0mobj\u001b[0m\u001b[1;33m)\u001b[0m \u001b[1;32mas\u001b[0m \u001b[0murl\u001b[0m\u001b[1;33m:\u001b[0m\u001b[1;33m\u001b[0m\u001b[0m\n\u001b[0m\u001b[1;32m    131\u001b[0m             \u001b[0mtext\u001b[0m \u001b[1;33m=\u001b[0m \u001b[0murl\u001b[0m\u001b[1;33m.\u001b[0m\u001b[0mread\u001b[0m\u001b[1;33m(\u001b[0m\u001b[1;33m)\u001b[0m\u001b[1;33m\u001b[0m\u001b[0m\n\u001b[1;32m    132\u001b[0m     \u001b[1;32melif\u001b[0m \u001b[0mhasattr\u001b[0m\u001b[1;33m(\u001b[0m\u001b[0mobj\u001b[0m\u001b[1;33m,\u001b[0m \u001b[1;34m'read'\u001b[0m\u001b[1;33m)\u001b[0m\u001b[1;33m:\u001b[0m\u001b[1;33m\u001b[0m\u001b[0m\n",
      "\u001b[0;32mC:\\Apps\\Utils\\Anaconda2\\lib\\contextlib.pyc\u001b[0m in \u001b[0;36m__enter__\u001b[0;34m(self)\u001b[0m\n\u001b[1;32m     15\u001b[0m     \u001b[1;32mdef\u001b[0m \u001b[0m__enter__\u001b[0m\u001b[1;33m(\u001b[0m\u001b[0mself\u001b[0m\u001b[1;33m)\u001b[0m\u001b[1;33m:\u001b[0m\u001b[1;33m\u001b[0m\u001b[0m\n\u001b[1;32m     16\u001b[0m         \u001b[1;32mtry\u001b[0m\u001b[1;33m:\u001b[0m\u001b[1;33m\u001b[0m\u001b[0m\n\u001b[0;32m---> 17\u001b[0;31m             \u001b[1;32mreturn\u001b[0m \u001b[0mself\u001b[0m\u001b[1;33m.\u001b[0m\u001b[0mgen\u001b[0m\u001b[1;33m.\u001b[0m\u001b[0mnext\u001b[0m\u001b[1;33m(\u001b[0m\u001b[1;33m)\u001b[0m\u001b[1;33m\u001b[0m\u001b[0m\n\u001b[0m\u001b[1;32m     18\u001b[0m         \u001b[1;32mexcept\u001b[0m \u001b[0mStopIteration\u001b[0m\u001b[1;33m:\u001b[0m\u001b[1;33m\u001b[0m\u001b[0m\n\u001b[1;32m     19\u001b[0m             \u001b[1;32mraise\u001b[0m \u001b[0mRuntimeError\u001b[0m\u001b[1;33m(\u001b[0m\u001b[1;34m\"generator didn't yield\"\u001b[0m\u001b[1;33m)\u001b[0m\u001b[1;33m\u001b[0m\u001b[0m\n",
      "\u001b[0;32mC:\\Apps\\Utils\\Anaconda2\\lib\\site-packages\\pandas\\io\\common.pyc\u001b[0m in \u001b[0;36murlopen\u001b[0;34m(*args, **kwargs)\u001b[0m\n\u001b[1;32m     58\u001b[0m     \u001b[1;33m@\u001b[0m\u001b[0mcontextmanager\u001b[0m\u001b[1;33m\u001b[0m\u001b[0m\n\u001b[1;32m     59\u001b[0m     \u001b[1;32mdef\u001b[0m \u001b[0murlopen\u001b[0m\u001b[1;33m(\u001b[0m\u001b[1;33m*\u001b[0m\u001b[0margs\u001b[0m\u001b[1;33m,\u001b[0m \u001b[1;33m**\u001b[0m\u001b[0mkwargs\u001b[0m\u001b[1;33m)\u001b[0m\u001b[1;33m:\u001b[0m\u001b[1;33m\u001b[0m\u001b[0m\n\u001b[0;32m---> 60\u001b[0;31m         \u001b[1;32mwith\u001b[0m \u001b[0mclosing\u001b[0m\u001b[1;33m(\u001b[0m\u001b[0m_urlopen\u001b[0m\u001b[1;33m(\u001b[0m\u001b[1;33m*\u001b[0m\u001b[0margs\u001b[0m\u001b[1;33m,\u001b[0m \u001b[1;33m**\u001b[0m\u001b[0mkwargs\u001b[0m\u001b[1;33m)\u001b[0m\u001b[1;33m)\u001b[0m \u001b[1;32mas\u001b[0m \u001b[0mf\u001b[0m\u001b[1;33m:\u001b[0m\u001b[1;33m\u001b[0m\u001b[0m\n\u001b[0m\u001b[1;32m     61\u001b[0m             \u001b[1;32myield\u001b[0m \u001b[0mf\u001b[0m\u001b[1;33m\u001b[0m\u001b[0m\n\u001b[1;32m     62\u001b[0m \u001b[1;33m\u001b[0m\u001b[0m\n",
      "\u001b[0;32mC:\\Apps\\Utils\\Anaconda2\\lib\\urllib2.pyc\u001b[0m in \u001b[0;36murlopen\u001b[0;34m(url, data, timeout, cafile, capath, cadefault, context)\u001b[0m\n\u001b[1;32m    152\u001b[0m     \u001b[1;32melse\u001b[0m\u001b[1;33m:\u001b[0m\u001b[1;33m\u001b[0m\u001b[0m\n\u001b[1;32m    153\u001b[0m         \u001b[0mopener\u001b[0m \u001b[1;33m=\u001b[0m \u001b[0m_opener\u001b[0m\u001b[1;33m\u001b[0m\u001b[0m\n\u001b[0;32m--> 154\u001b[0;31m     \u001b[1;32mreturn\u001b[0m \u001b[0mopener\u001b[0m\u001b[1;33m.\u001b[0m\u001b[0mopen\u001b[0m\u001b[1;33m(\u001b[0m\u001b[0murl\u001b[0m\u001b[1;33m,\u001b[0m \u001b[0mdata\u001b[0m\u001b[1;33m,\u001b[0m \u001b[0mtimeout\u001b[0m\u001b[1;33m)\u001b[0m\u001b[1;33m\u001b[0m\u001b[0m\n\u001b[0m\u001b[1;32m    155\u001b[0m \u001b[1;33m\u001b[0m\u001b[0m\n\u001b[1;32m    156\u001b[0m \u001b[1;32mdef\u001b[0m \u001b[0minstall_opener\u001b[0m\u001b[1;33m(\u001b[0m\u001b[0mopener\u001b[0m\u001b[1;33m)\u001b[0m\u001b[1;33m:\u001b[0m\u001b[1;33m\u001b[0m\u001b[0m\n",
      "\u001b[0;32mC:\\Apps\\Utils\\Anaconda2\\lib\\urllib2.pyc\u001b[0m in \u001b[0;36mopen\u001b[0;34m(self, fullurl, data, timeout)\u001b[0m\n\u001b[1;32m    427\u001b[0m             \u001b[0mreq\u001b[0m \u001b[1;33m=\u001b[0m \u001b[0mmeth\u001b[0m\u001b[1;33m(\u001b[0m\u001b[0mreq\u001b[0m\u001b[1;33m)\u001b[0m\u001b[1;33m\u001b[0m\u001b[0m\n\u001b[1;32m    428\u001b[0m \u001b[1;33m\u001b[0m\u001b[0m\n\u001b[0;32m--> 429\u001b[0;31m         \u001b[0mresponse\u001b[0m \u001b[1;33m=\u001b[0m \u001b[0mself\u001b[0m\u001b[1;33m.\u001b[0m\u001b[0m_open\u001b[0m\u001b[1;33m(\u001b[0m\u001b[0mreq\u001b[0m\u001b[1;33m,\u001b[0m \u001b[0mdata\u001b[0m\u001b[1;33m)\u001b[0m\u001b[1;33m\u001b[0m\u001b[0m\n\u001b[0m\u001b[1;32m    430\u001b[0m \u001b[1;33m\u001b[0m\u001b[0m\n\u001b[1;32m    431\u001b[0m         \u001b[1;31m# post-process response\u001b[0m\u001b[1;33m\u001b[0m\u001b[1;33m\u001b[0m\u001b[0m\n",
      "\u001b[0;32mC:\\Apps\\Utils\\Anaconda2\\lib\\urllib2.pyc\u001b[0m in \u001b[0;36m_open\u001b[0;34m(self, req, data)\u001b[0m\n\u001b[1;32m    445\u001b[0m         \u001b[0mprotocol\u001b[0m \u001b[1;33m=\u001b[0m \u001b[0mreq\u001b[0m\u001b[1;33m.\u001b[0m\u001b[0mget_type\u001b[0m\u001b[1;33m(\u001b[0m\u001b[1;33m)\u001b[0m\u001b[1;33m\u001b[0m\u001b[0m\n\u001b[1;32m    446\u001b[0m         result = self._call_chain(self.handle_open, protocol, protocol +\n\u001b[0;32m--> 447\u001b[0;31m                                   '_open', req)\n\u001b[0m\u001b[1;32m    448\u001b[0m         \u001b[1;32mif\u001b[0m \u001b[0mresult\u001b[0m\u001b[1;33m:\u001b[0m\u001b[1;33m\u001b[0m\u001b[0m\n\u001b[1;32m    449\u001b[0m             \u001b[1;32mreturn\u001b[0m \u001b[0mresult\u001b[0m\u001b[1;33m\u001b[0m\u001b[0m\n",
      "\u001b[0;32mC:\\Apps\\Utils\\Anaconda2\\lib\\urllib2.pyc\u001b[0m in \u001b[0;36m_call_chain\u001b[0;34m(self, chain, kind, meth_name, *args)\u001b[0m\n\u001b[1;32m    405\u001b[0m             \u001b[0mfunc\u001b[0m \u001b[1;33m=\u001b[0m \u001b[0mgetattr\u001b[0m\u001b[1;33m(\u001b[0m\u001b[0mhandler\u001b[0m\u001b[1;33m,\u001b[0m \u001b[0mmeth_name\u001b[0m\u001b[1;33m)\u001b[0m\u001b[1;33m\u001b[0m\u001b[0m\n\u001b[1;32m    406\u001b[0m \u001b[1;33m\u001b[0m\u001b[0m\n\u001b[0;32m--> 407\u001b[0;31m             \u001b[0mresult\u001b[0m \u001b[1;33m=\u001b[0m \u001b[0mfunc\u001b[0m\u001b[1;33m(\u001b[0m\u001b[1;33m*\u001b[0m\u001b[0margs\u001b[0m\u001b[1;33m)\u001b[0m\u001b[1;33m\u001b[0m\u001b[0m\n\u001b[0m\u001b[1;32m    408\u001b[0m             \u001b[1;32mif\u001b[0m \u001b[0mresult\u001b[0m \u001b[1;32mis\u001b[0m \u001b[1;32mnot\u001b[0m \u001b[0mNone\u001b[0m\u001b[1;33m:\u001b[0m\u001b[1;33m\u001b[0m\u001b[0m\n\u001b[1;32m    409\u001b[0m                 \u001b[1;32mreturn\u001b[0m \u001b[0mresult\u001b[0m\u001b[1;33m\u001b[0m\u001b[0m\n",
      "\u001b[0;32mC:\\Apps\\Utils\\Anaconda2\\lib\\urllib2.pyc\u001b[0m in \u001b[0;36mhttps_open\u001b[0;34m(self, req)\u001b[0m\n\u001b[1;32m   1239\u001b[0m         \u001b[1;32mdef\u001b[0m \u001b[0mhttps_open\u001b[0m\u001b[1;33m(\u001b[0m\u001b[0mself\u001b[0m\u001b[1;33m,\u001b[0m \u001b[0mreq\u001b[0m\u001b[1;33m)\u001b[0m\u001b[1;33m:\u001b[0m\u001b[1;33m\u001b[0m\u001b[0m\n\u001b[1;32m   1240\u001b[0m             return self.do_open(httplib.HTTPSConnection, req,\n\u001b[0;32m-> 1241\u001b[0;31m                 context=self._context)\n\u001b[0m\u001b[1;32m   1242\u001b[0m \u001b[1;33m\u001b[0m\u001b[0m\n\u001b[1;32m   1243\u001b[0m         \u001b[0mhttps_request\u001b[0m \u001b[1;33m=\u001b[0m \u001b[0mAbstractHTTPHandler\u001b[0m\u001b[1;33m.\u001b[0m\u001b[0mdo_request_\u001b[0m\u001b[1;33m\u001b[0m\u001b[0m\n",
      "\u001b[0;32mC:\\Apps\\Utils\\Anaconda2\\lib\\urllib2.pyc\u001b[0m in \u001b[0;36mdo_open\u001b[0;34m(self, http_class, req, **http_conn_args)\u001b[0m\n\u001b[1;32m   1196\u001b[0m         \u001b[1;32mexcept\u001b[0m \u001b[0msocket\u001b[0m\u001b[1;33m.\u001b[0m\u001b[0merror\u001b[0m\u001b[1;33m,\u001b[0m \u001b[0merr\u001b[0m\u001b[1;33m:\u001b[0m \u001b[1;31m# XXX what error?\u001b[0m\u001b[1;33m\u001b[0m\u001b[0m\n\u001b[1;32m   1197\u001b[0m             \u001b[0mh\u001b[0m\u001b[1;33m.\u001b[0m\u001b[0mclose\u001b[0m\u001b[1;33m(\u001b[0m\u001b[1;33m)\u001b[0m\u001b[1;33m\u001b[0m\u001b[0m\n\u001b[0;32m-> 1198\u001b[0;31m             \u001b[1;32mraise\u001b[0m \u001b[0mURLError\u001b[0m\u001b[1;33m(\u001b[0m\u001b[0merr\u001b[0m\u001b[1;33m)\u001b[0m\u001b[1;33m\u001b[0m\u001b[0m\n\u001b[0m\u001b[1;32m   1199\u001b[0m         \u001b[1;32melse\u001b[0m\u001b[1;33m:\u001b[0m\u001b[1;33m\u001b[0m\u001b[0m\n\u001b[1;32m   1200\u001b[0m             \u001b[1;32mtry\u001b[0m\u001b[1;33m:\u001b[0m\u001b[1;33m\u001b[0m\u001b[0m\n",
      "\u001b[0;31mURLError\u001b[0m: <urlopen error [Errno 10060] A connection attempt failed because the connected party did not properly respond after a period of time, or established connection failed because connected host has failed to respond>"
     ]
    }
   ],
   "source": [
    "pd.read_html('https://www.bloomberg.com/markets/stocks/futures')"
   ]
  },
  {
   "cell_type": "code",
   "execution_count": 12,
   "metadata": {
    "collapsed": true
   },
   "outputs": [],
   "source": [
    "# clipboard, excel, csv, text, html, json, read_table (text), hdf"
   ]
  },
  {
   "cell_type": "code",
   "execution_count": 15,
   "metadata": {
    "collapsed": false
   },
   "outputs": [
    {
     "data": {
      "text/html": [
       "<div>\n",
       "<table border=\"1\" class=\"dataframe\">\n",
       "  <thead>\n",
       "    <tr style=\"text-align: right;\">\n",
       "      <th></th>\n",
       "      <th></th>\n",
       "      <th>Name</th>\n",
       "      <th>Time</th>\n",
       "      <th>(EDT)</th>\n",
       "      <th>Future</th>\n",
       "      <th>Date</th>\n",
       "      <th>Last</th>\n",
       "      <th>Net</th>\n",
       "      <th>Change</th>\n",
       "      <th>\\</th>\n",
       "    </tr>\n",
       "  </thead>\n",
       "  <tbody>\n",
       "    <tr>\n",
       "      <th>0</th>\n",
       "      <th>VG1:IND</th>\n",
       "      <td>Euro</td>\n",
       "      <td>STOXX</td>\n",
       "      <td>50</td>\n",
       "      <td>6:05</td>\n",
       "      <td>AM</td>\n",
       "      <td>Mar</td>\n",
       "      <td>2017.00</td>\n",
       "      <td>3404.00</td>\n",
       "      <td>6.0</td>\n",
       "    </tr>\n",
       "    <tr>\n",
       "      <th>1</th>\n",
       "      <th>Z</th>\n",
       "      <td>1:IND</td>\n",
       "      <td>FTSE</td>\n",
       "      <td>100</td>\n",
       "      <td>6:10</td>\n",
       "      <td>AM</td>\n",
       "      <td>Mar</td>\n",
       "      <td>2017.00</td>\n",
       "      <td>7363.00</td>\n",
       "      <td>16.5</td>\n",
       "    </tr>\n",
       "    <tr>\n",
       "      <th>2</th>\n",
       "      <th>GX1:IND</th>\n",
       "      <td>DAX</td>\n",
       "      <td>30</td>\n",
       "      <td>6:05</td>\n",
       "      <td>AM</td>\n",
       "      <td>Mar</td>\n",
       "      <td>2017</td>\n",
       "      <td>11991.50</td>\n",
       "      <td>3.50</td>\n",
       "      <td>NaN</td>\n",
       "    </tr>\n",
       "    <tr>\n",
       "      <th>3</th>\n",
       "      <th>CF1:IND</th>\n",
       "      <td>CAC</td>\n",
       "      <td>40</td>\n",
       "      <td>6:05</td>\n",
       "      <td>AM</td>\n",
       "      <td>Mar</td>\n",
       "      <td>2017</td>\n",
       "      <td>4973.00</td>\n",
       "      <td>-1.50</td>\n",
       "      <td>NaN</td>\n",
       "    </tr>\n",
       "    <tr>\n",
       "      <th>4</th>\n",
       "      <th>AJ1:IND</th>\n",
       "      <td>FTSE/Athens</td>\n",
       "      <td>20</td>\n",
       "      <td>6:04</td>\n",
       "      <td>AM</td>\n",
       "      <td>Apr</td>\n",
       "      <td>2017</td>\n",
       "      <td>1700.00</td>\n",
       "      <td>-7.25</td>\n",
       "      <td>NaN</td>\n",
       "    </tr>\n",
       "    <tr>\n",
       "      <th>5</th>\n",
       "      <th>ST1:IND</th>\n",
       "      <td>FTSE/MIB</td>\n",
       "      <td>6:04</td>\n",
       "      <td>AM</td>\n",
       "      <td>Mar</td>\n",
       "      <td>2017</td>\n",
       "      <td>19620.00</td>\n",
       "      <td>68.00</td>\n",
       "      <td>NaN</td>\n",
       "      <td>NaN</td>\n",
       "    </tr>\n",
       "    <tr>\n",
       "      <th>6</th>\n",
       "      <th>EO1:IND</th>\n",
       "      <td>AEX</td>\n",
       "      <td>6:04</td>\n",
       "      <td>AM</td>\n",
       "      <td>Mar</td>\n",
       "      <td>2017</td>\n",
       "      <td>511.90</td>\n",
       "      <td>1.80</td>\n",
       "      <td>NaN</td>\n",
       "      <td>NaN</td>\n",
       "    </tr>\n",
       "    <tr>\n",
       "      <th>7</th>\n",
       "      <th>QC1:IND</th>\n",
       "      <td>OMX</td>\n",
       "      <td>Stockholm</td>\n",
       "      <td>30</td>\n",
       "      <td>6:05</td>\n",
       "      <td>AM</td>\n",
       "      <td>Mar</td>\n",
       "      <td>2017.00</td>\n",
       "      <td>1579.00</td>\n",
       "      <td>0.5</td>\n",
       "    </tr>\n",
       "    <tr>\n",
       "      <th>8</th>\n",
       "      <th>SM1:IND</th>\n",
       "      <td>Swiss</td>\n",
       "      <td>Market</td>\n",
       "      <td>6:05</td>\n",
       "      <td>AM</td>\n",
       "      <td>Mar</td>\n",
       "      <td>2017</td>\n",
       "      <td>8631.00</td>\n",
       "      <td>-3.00</td>\n",
       "      <td>NaN</td>\n",
       "    </tr>\n",
       "    <tr>\n",
       "      <th>9</th>\n",
       "      <th>ZMO1:IND</th>\n",
       "      <td>OMX</td>\n",
       "      <td>Copenhagen</td>\n",
       "      <td>20</td>\n",
       "      <td>5:46</td>\n",
       "      <td>AM</td>\n",
       "      <td>Mar</td>\n",
       "      <td>2017.00</td>\n",
       "      <td>1069.00</td>\n",
       "      <td>-0.9</td>\n",
       "    </tr>\n",
       "    <tr>\n",
       "      <th>10</th>\n",
       "      <th>ATT1:IND</th>\n",
       "      <td>Austrian</td>\n",
       "      <td>Traded</td>\n",
       "      <td>3/14/2017</td>\n",
       "      <td>Mar</td>\n",
       "      <td>2017</td>\n",
       "      <td>2817.50</td>\n",
       "      <td>-25.50</td>\n",
       "      <td>NaN</td>\n",
       "      <td>NaN</td>\n",
       "    </tr>\n",
       "    <tr>\n",
       "      <th>11</th>\n",
       "      <th>PP1:IND</th>\n",
       "      <td>PSI-20</td>\n",
       "      <td>5:00</td>\n",
       "      <td>AM</td>\n",
       "      <td>Mar</td>\n",
       "      <td>2017</td>\n",
       "      <td>4589.00</td>\n",
       "      <td>9.00</td>\n",
       "      <td>NaN</td>\n",
       "      <td>NaN</td>\n",
       "    </tr>\n",
       "    <tr>\n",
       "      <th>12</th>\n",
       "      <th>IB1:IND</th>\n",
       "      <td>IBEX</td>\n",
       "      <td>35</td>\n",
       "      <td>6:04</td>\n",
       "      <td>AM</td>\n",
       "      <td>Mar</td>\n",
       "      <td>2017</td>\n",
       "      <td>9948.00</td>\n",
       "      <td>51.10</td>\n",
       "      <td>NaN</td>\n",
       "    </tr>\n",
       "    <tr>\n",
       "      <th>13</th>\n",
       "      <th>KRS1:IND</th>\n",
       "      <td>WIG20</td>\n",
       "      <td>6:04</td>\n",
       "      <td>AM</td>\n",
       "      <td>Mar</td>\n",
       "      <td>2017</td>\n",
       "      <td>2246.00</td>\n",
       "      <td>9.00</td>\n",
       "      <td>NaN</td>\n",
       "      <td>NaN</td>\n",
       "    </tr>\n",
       "    <tr>\n",
       "      <th>14</th>\n",
       "      <th>XMC1:IND</th>\n",
       "      <td>Micex</td>\n",
       "      <td>6:05</td>\n",
       "      <td>AM</td>\n",
       "      <td>Mar</td>\n",
       "      <td>2017</td>\n",
       "      <td>199825.00</td>\n",
       "      <td>-250.00</td>\n",
       "      <td>NaN</td>\n",
       "      <td>NaN</td>\n",
       "    </tr>\n",
       "    <tr>\n",
       "      <th>15</th>\n",
       "      <th>VE1:IND</th>\n",
       "      <td>RTS</td>\n",
       "      <td>6:05</td>\n",
       "      <td>AM</td>\n",
       "      <td>Mar</td>\n",
       "      <td>2017</td>\n",
       "      <td>106590.00</td>\n",
       "      <td>270.00</td>\n",
       "      <td>NaN</td>\n",
       "      <td>NaN</td>\n",
       "    </tr>\n",
       "    <tr>\n",
       "      <th>16</th>\n",
       "      <th>A51:IND</th>\n",
       "      <td>BIST</td>\n",
       "      <td>30</td>\n",
       "      <td>6:05</td>\n",
       "      <td>AM</td>\n",
       "      <td>Apr</td>\n",
       "      <td>2017</td>\n",
       "      <td>109.83</td>\n",
       "      <td>0.75</td>\n",
       "      <td>NaN</td>\n",
       "    </tr>\n",
       "    <tr>\n",
       "      <th>17</th>\n",
       "      <th>TA1:IND</th>\n",
       "      <td>Tel</td>\n",
       "      <td>Aviv</td>\n",
       "      <td>25</td>\n",
       "      <td>1:45</td>\n",
       "      <td>AM</td>\n",
       "      <td>Mar</td>\n",
       "      <td>2017.00</td>\n",
       "      <td>143676.00</td>\n",
       "      <td>0.0</td>\n",
       "    </tr>\n",
       "    <tr>\n",
       "      <th>18</th>\n",
       "      <th>AI1:IND</th>\n",
       "      <td>FTSE/JSE</td>\n",
       "      <td>Top</td>\n",
       "      <td>40</td>\n",
       "      <td>6:04</td>\n",
       "      <td>AM</td>\n",
       "      <td>Mar</td>\n",
       "      <td>2017.00</td>\n",
       "      <td>44755.00</td>\n",
       "      <td>153.0</td>\n",
       "    </tr>\n",
       "  </tbody>\n",
       "</table>\n",
       "</div>"
      ],
      "text/plain": [
       "                    Name        Time      (EDT) Future  Date       Last  \\\n",
       "0  VG1:IND          Euro       STOXX         50   6:05    AM        Mar   \n",
       "1  Z               1:IND        FTSE        100   6:10    AM        Mar   \n",
       "2  GX1:IND           DAX          30       6:05     AM   Mar       2017   \n",
       "3  CF1:IND           CAC          40       6:05     AM   Mar       2017   \n",
       "4  AJ1:IND   FTSE/Athens          20       6:04     AM   Apr       2017   \n",
       "5  ST1:IND      FTSE/MIB        6:04         AM    Mar  2017   19620.00   \n",
       "6  EO1:IND           AEX        6:04         AM    Mar  2017     511.90   \n",
       "7  QC1:IND           OMX   Stockholm         30   6:05    AM        Mar   \n",
       "8  SM1:IND         Swiss      Market       6:05     AM   Mar       2017   \n",
       "9  ZMO1:IND          OMX  Copenhagen         20   5:46    AM        Mar   \n",
       "10 ATT1:IND     Austrian      Traded  3/14/2017    Mar  2017    2817.50   \n",
       "11 PP1:IND        PSI-20        5:00         AM    Mar  2017    4589.00   \n",
       "12 IB1:IND          IBEX          35       6:04     AM   Mar       2017   \n",
       "13 KRS1:IND        WIG20        6:04         AM    Mar  2017    2246.00   \n",
       "14 XMC1:IND        Micex        6:05         AM    Mar  2017  199825.00   \n",
       "15 VE1:IND           RTS        6:05         AM    Mar  2017  106590.00   \n",
       "16 A51:IND          BIST          30       6:05     AM   Apr       2017   \n",
       "17 TA1:IND           Tel        Aviv         25   1:45    AM        Mar   \n",
       "18 AI1:IND      FTSE/JSE         Top         40   6:04    AM        Mar   \n",
       "\n",
       "                  Net     Change      \\  \n",
       "0  VG1:IND    2017.00    3404.00    6.0  \n",
       "1  Z          2017.00    7363.00   16.5  \n",
       "2  GX1:IND   11991.50       3.50    NaN  \n",
       "3  CF1:IND    4973.00      -1.50    NaN  \n",
       "4  AJ1:IND    1700.00      -7.25    NaN  \n",
       "5  ST1:IND      68.00        NaN    NaN  \n",
       "6  EO1:IND       1.80        NaN    NaN  \n",
       "7  QC1:IND    2017.00    1579.00    0.5  \n",
       "8  SM1:IND    8631.00      -3.00    NaN  \n",
       "9  ZMO1:IND   2017.00    1069.00   -0.9  \n",
       "10 ATT1:IND    -25.50        NaN    NaN  \n",
       "11 PP1:IND       9.00        NaN    NaN  \n",
       "12 IB1:IND    9948.00      51.10    NaN  \n",
       "13 KRS1:IND      9.00        NaN    NaN  \n",
       "14 XMC1:IND   -250.00        NaN    NaN  \n",
       "15 VE1:IND     270.00        NaN    NaN  \n",
       "16 A51:IND     109.83       0.75    NaN  \n",
       "17 TA1:IND    2017.00  143676.00    0.0  \n",
       "18 AI1:IND    2017.00   44755.00  153.0  "
      ]
     },
     "execution_count": 15,
     "metadata": {},
     "output_type": "execute_result"
    }
   ],
   "source": [
    "pd.read_clipboard()"
   ]
  },
  {
   "cell_type": "code",
   "execution_count": 14,
   "metadata": {
    "collapsed": false
   },
   "outputs": [
    {
     "ename": "SyntaxError",
     "evalue": "non-keyword arg after keyword arg (<ipython-input-14-b03073531d2e>, line 1)",
     "output_type": "error",
     "traceback": [
      "\u001b[0;36m  File \u001b[0;32m\"<ipython-input-14-b03073531d2e>\"\u001b[0;36m, line \u001b[0;32m1\u001b[0m\n\u001b[0;31m    pd.read_table('historical_data.csv', sep=',', header=1, index_col=0, parse_dates=True, na_values['-'])\u001b[0m\n\u001b[0;31mSyntaxError\u001b[0m\u001b[0;31m:\u001b[0m non-keyword arg after keyword arg\n"
     ]
    }
   ],
   "source": [
    "pd.read_table('historical_data.csv', sep=',', header=1, index_col=0, parse_dates=True, na_values['-'])"
   ]
  },
  {
   "cell_type": "code",
   "execution_count": null,
   "metadata": {
    "collapsed": true
   },
   "outputs": [],
   "source": [
    "# reading large files, chunkssize\n",
    "pd.read_csv('blah.csv', chunksize=100000) # returns iterator\n",
    "\n",
    ".....\n",
    "pd.concat(chunks)"
   ]
  },
  {
   "cell_type": "code",
   "execution_count": 16,
   "metadata": {
    "collapsed": true
   },
   "outputs": [],
   "source": [
    "# for huge distributed data, Dask"
   ]
  },
  {
   "cell_type": "code",
   "execution_count": 19,
   "metadata": {
    "collapsed": false
   },
   "outputs": [],
   "source": [
    "# Pandas io summary: txt, csv, pickle, hdf5, sql, excel, R,\n",
    "# writing: txt, csv, html, pickle, hdf5, excel\n",
    "df = pd.read_pickle('df.pkl')"
   ]
  },
  {
   "cell_type": "code",
   "execution_count": 24,
   "metadata": {
    "collapsed": false
   },
   "outputs": [],
   "source": [
    "# to excel \n",
    "\n",
    "# to single object\n",
    "df.to_excel('spreadsheet.xls', 'first sheet')\n",
    "\n",
    "# to multiple obj\n",
    "dfwriter = pd.ExcelWriter('out.xlsx')\n",
    "df.to_excel(dfwriter,'sheet1')\n",
    "dfwriter.save()"
   ]
  },
  {
   "cell_type": "code",
   "execution_count": 25,
   "metadata": {
    "collapsed": true
   },
   "outputs": [],
   "source": [
    "# SQL use SQLAlchemy\n",
    "# the Core is python"
   ]
  },
  {
   "cell_type": "code",
   "execution_count": 1,
   "metadata": {
    "collapsed": true
   },
   "outputs": [],
   "source": [
    "# second datatype Series, 1D array, all elements are labled\n",
    "# eg depth with value\n",
    "# or something with time\n"
   ]
  },
  {
   "cell_type": "code",
   "execution_count": 5,
   "metadata": {
    "collapsed": false
   },
   "outputs": [],
   "source": [
    "s = pd.Series([2.3, 4.5, 6.8], index=[100,200,300])"
   ]
  },
  {
   "cell_type": "code",
   "execution_count": 6,
   "metadata": {
    "collapsed": false
   },
   "outputs": [
    {
     "data": {
      "text/plain": [
       "array([ 2.3,  4.5,  6.8])"
      ]
     },
     "execution_count": 6,
     "metadata": {},
     "output_type": "execute_result"
    }
   ],
   "source": [
    "s.values"
   ]
  },
  {
   "cell_type": "code",
   "execution_count": 7,
   "metadata": {
    "collapsed": false
   },
   "outputs": [
    {
     "data": {
      "text/plain": [
       "Int64Index([100, 200, 300], dtype='int64')"
      ]
     },
     "execution_count": 7,
     "metadata": {},
     "output_type": "execute_result"
    }
   ],
   "source": [
    "s.index"
   ]
  },
  {
   "cell_type": "code",
   "execution_count": 9,
   "metadata": {
    "collapsed": false
   },
   "outputs": [
    {
     "data": {
      "text/plain": [
       "numpy.ndarray"
      ]
     },
     "execution_count": 9,
     "metadata": {},
     "output_type": "execute_result"
    }
   ],
   "source": [
    "type(s.values)"
   ]
  },
  {
   "cell_type": "code",
   "execution_count": 10,
   "metadata": {
    "collapsed": false
   },
   "outputs": [
    {
     "data": {
      "text/plain": [
       "pandas.indexes.numeric.Int64Index"
      ]
     },
     "execution_count": 10,
     "metadata": {},
     "output_type": "execute_result"
    }
   ],
   "source": [
    "type(s.index)"
   ]
  },
  {
   "cell_type": "code",
   "execution_count": 11,
   "metadata": {
    "collapsed": true
   },
   "outputs": [],
   "source": [
    "d = {'n1': 'Cary', 'n2': 'Lynn', 'n3': 'Sam'}"
   ]
  },
  {
   "cell_type": "code",
   "execution_count": 12,
   "metadata": {
    "collapsed": true
   },
   "outputs": [],
   "source": [
    "s = pd.Series(d, name='People')"
   ]
  },
  {
   "cell_type": "code",
   "execution_count": 15,
   "metadata": {
    "collapsed": false
   },
   "outputs": [
    {
     "data": {
      "text/plain": [
       "'People'"
      ]
     },
     "execution_count": 15,
     "metadata": {},
     "output_type": "execute_result"
    }
   ],
   "source": [
    "s.name"
   ]
  },
  {
   "cell_type": "code",
   "execution_count": 16,
   "metadata": {
    "collapsed": true
   },
   "outputs": [],
   "source": [
    "i = s.index"
   ]
  },
  {
   "cell_type": "code",
   "execution_count": 17,
   "metadata": {
    "collapsed": false
   },
   "outputs": [
    {
     "data": {
      "text/plain": [
       "array(['n1', 'n2', 'n3'], dtype=object)"
      ]
     },
     "execution_count": 17,
     "metadata": {},
     "output_type": "execute_result"
    }
   ],
   "source": [
    "s.index.values"
   ]
  },
  {
   "cell_type": "code",
   "execution_count": 18,
   "metadata": {
    "collapsed": false
   },
   "outputs": [
    {
     "data": {
      "text/plain": [
       "numpy.ndarray"
      ]
     },
     "execution_count": 18,
     "metadata": {},
     "output_type": "execute_result"
    }
   ],
   "source": [
    "type(s.index.values)"
   ]
  },
  {
   "cell_type": "code",
   "execution_count": 20,
   "metadata": {
    "collapsed": false
   },
   "outputs": [
    {
     "data": {
      "text/plain": [
       "dtype('O')"
      ]
     },
     "execution_count": 20,
     "metadata": {},
     "output_type": "execute_result"
    }
   ],
   "source": [
    "s.dtype"
   ]
  },
  {
   "cell_type": "code",
   "execution_count": 21,
   "metadata": {
    "collapsed": false
   },
   "outputs": [
    {
     "data": {
      "text/plain": [
       "(3L,)"
      ]
     },
     "execution_count": 21,
     "metadata": {},
     "output_type": "execute_result"
    }
   ],
   "source": [
    "s.shape"
   ]
  },
  {
   "cell_type": "code",
   "execution_count": 22,
   "metadata": {
    "collapsed": false
   },
   "outputs": [
    {
     "data": {
      "text/plain": [
       "3"
      ]
     },
     "execution_count": 22,
     "metadata": {},
     "output_type": "execute_result"
    }
   ],
   "source": [
    "len(s)"
   ]
  },
  {
   "cell_type": "code",
   "execution_count": 23,
   "metadata": {
    "collapsed": false
   },
   "outputs": [
    {
     "data": {
      "text/plain": [
       "array(['Cary', 'Lynn', 'Sam'], dtype=object)"
      ]
     },
     "execution_count": 23,
     "metadata": {},
     "output_type": "execute_result"
    }
   ],
   "source": [
    "s.unique()"
   ]
  },
  {
   "cell_type": "code",
   "execution_count": 24,
   "metadata": {
    "collapsed": false
   },
   "outputs": [
    {
     "data": {
      "text/plain": [
       "'Lynn'"
      ]
     },
     "execution_count": 24,
     "metadata": {},
     "output_type": "execute_result"
    }
   ],
   "source": [
    "s['n2']"
   ]
  },
  {
   "cell_type": "code",
   "execution_count": 25,
   "metadata": {
    "collapsed": false
   },
   "outputs": [
    {
     "data": {
      "text/plain": [
       "'Lynn'"
      ]
     },
     "execution_count": 25,
     "metadata": {},
     "output_type": "execute_result"
    }
   ],
   "source": [
    "s[1]"
   ]
  },
  {
   "cell_type": "code",
   "execution_count": 26,
   "metadata": {
    "collapsed": false
   },
   "outputs": [
    {
     "data": {
      "text/plain": [
       "n2    Lynn\n",
       "Name: People, dtype: object"
      ]
     },
     "execution_count": 26,
     "metadata": {},
     "output_type": "execute_result"
    }
   ],
   "source": [
    "s[1:2]"
   ]
  },
  {
   "cell_type": "code",
   "execution_count": 27,
   "metadata": {
    "collapsed": false
   },
   "outputs": [
    {
     "data": {
      "text/plain": [
       "n2    Lynn\n",
       "n3     Sam\n",
       "Name: People, dtype: object"
      ]
     },
     "execution_count": 27,
     "metadata": {},
     "output_type": "execute_result"
    }
   ],
   "source": [
    "s['n2':'n3'] # both inclusive"
   ]
  },
  {
   "cell_type": "code",
   "execution_count": 28,
   "metadata": {
    "collapsed": true
   },
   "outputs": [],
   "source": [
    "# by default extracts label index not the position index\n",
    "# s.iloc[0] - position indexing, half open\n",
    "# s.loc[0] - labeled, inclusive start and stop"
   ]
  },
  {
   "cell_type": "code",
   "execution_count": 29,
   "metadata": {
    "collapsed": true
   },
   "outputs": [],
   "source": [
    "# Exception with ordered letters\n",
    "index = ['a', 'b', 'c']"
   ]
  },
  {
   "cell_type": "code",
   "execution_count": 42,
   "metadata": {
    "collapsed": false
   },
   "outputs": [
    {
     "name": "stdout",
     "output_type": "stream",
     "text": [
      "1    1\n",
      "1    2\n",
      "dtype: int64\n",
      "1    1\n",
      "1    2\n",
      "dtype: int64\n",
      "1    1\n",
      "2    3\n",
      "5    5\n",
      "dtype: int64\n"
     ]
    }
   ],
   "source": [
    "fib = pd.Series([1,2,3,4,5], index=[1,1,2,3,5])\n",
    "s.name = \"Fibonacci\"\n",
    "print fib.iloc[:2]\n",
    "print fib.loc[1]\n",
    "print fib.iloc[::2]"
   ]
  },
  {
   "cell_type": "code",
   "execution_count": 44,
   "metadata": {
    "collapsed": false
   },
   "outputs": [
    {
     "data": {
      "text/plain": [
       "1    False\n",
       "1    False\n",
       "2    False\n",
       "3    False\n",
       "5     True\n",
       "dtype: bool"
      ]
     },
     "execution_count": 44,
     "metadata": {},
     "output_type": "execute_result"
    }
   ],
   "source": [
    "fib > 4"
   ]
  },
  {
   "cell_type": "code",
   "execution_count": 47,
   "metadata": {
    "collapsed": false
   },
   "outputs": [
    {
     "data": {
      "text/plain": [
       "5    5\n",
       "dtype: int64"
      ]
     },
     "execution_count": 47,
     "metadata": {},
     "output_type": "execute_result"
    }
   ],
   "source": [
    "fib.loc[fib > 4]"
   ]
  },
  {
   "cell_type": "code",
   "execution_count": 50,
   "metadata": {
    "collapsed": true
   },
   "outputs": [],
   "source": [
    "s = pd.Series([1,2,3,4,5], index=list('abcde'))"
   ]
  },
  {
   "cell_type": "code",
   "execution_count": 57,
   "metadata": {
    "collapsed": false
   },
   "outputs": [
    {
     "name": "stdout",
     "output_type": "stream",
     "text": [
      "c    3\n",
      "dtype: int64\n"
     ]
    }
   ],
   "source": [
    "print s[s % 2 != 0]"
   ]
  },
  {
   "cell_type": "code",
   "execution_count": 58,
   "metadata": {
    "collapsed": false
   },
   "outputs": [
    {
     "name": "stdout",
     "output_type": "stream",
     "text": [
      "a    0\n",
      "b    0\n",
      "c    3\n",
      "d    4\n",
      "e    0\n",
      "dtype: int64\n"
     ]
    }
   ],
   "source": [
    "s.iloc[[0, 1, -1]]=0\n",
    "print s"
   ]
  },
  {
   "cell_type": "code",
   "execution_count": 61,
   "metadata": {
    "collapsed": false
   },
   "outputs": [
    {
     "data": {
      "text/plain": [
       "a    NaN\n",
       "b    6.0\n",
       "c    NaN\n",
       "dtype: float64"
      ]
     },
     "execution_count": 61,
     "metadata": {},
     "output_type": "execute_result"
    }
   ],
   "source": [
    "s1 = pd.Series({'a': 1, 'b': 2})\n",
    "s2 = pd.Series({'b': 4, 'c': 5})\n",
    "s1 + s2 # NaN is floating point number so everything becomes float\n",
    "# everything lines on index"
   ]
  },
  {
   "cell_type": "code",
   "execution_count": 62,
   "metadata": {
    "collapsed": false
   },
   "outputs": [
    {
     "data": {
      "text/plain": [
       "a    1.0\n",
       "b    6.0\n",
       "c    5.0\n",
       "dtype: float64"
      ]
     },
     "execution_count": 62,
     "metadata": {},
     "output_type": "execute_result"
    }
   ],
   "source": [
    "s1.add(s2, fill_value=0)"
   ]
  },
  {
   "cell_type": "code",
   "execution_count": 64,
   "metadata": {
    "collapsed": true
   },
   "outputs": [],
   "source": [
    "s3 = s1 + s2"
   ]
  },
  {
   "cell_type": "code",
   "execution_count": 66,
   "metadata": {
    "collapsed": false
   },
   "outputs": [
    {
     "data": {
      "text/plain": [
       "6.0"
      ]
     },
     "execution_count": 66,
     "metadata": {},
     "output_type": "execute_result"
    }
   ],
   "source": [
    "s3.mean() #  ignore NaN"
   ]
  },
  {
   "cell_type": "code",
   "execution_count": 67,
   "metadata": {
    "collapsed": false
   },
   "outputs": [
    {
     "data": {
      "text/plain": [
       "nan"
      ]
     },
     "execution_count": 67,
     "metadata": {},
     "output_type": "execute_result"
    }
   ],
   "source": [
    "a = np.array([np.nan, 6.0, np.nan])\n",
    "a.mean()"
   ]
  },
  {
   "cell_type": "code",
   "execution_count": 69,
   "metadata": {
    "collapsed": false
   },
   "outputs": [
    {
     "data": {
      "text/plain": [
       "6.0"
      ]
     },
     "execution_count": 69,
     "metadata": {},
     "output_type": "execute_result"
    }
   ],
   "source": [
    "np.nanmean(a)"
   ]
  },
  {
   "cell_type": "code",
   "execution_count": 70,
   "metadata": {
    "collapsed": false
   },
   "outputs": [
    {
     "data": {
      "text/plain": [
       "a    5.0\n",
       "b    7.0\n",
       "c    NaN\n",
       "d    NaN\n",
       "dtype: float64"
      ]
     },
     "execution_count": 70,
     "metadata": {},
     "output_type": "execute_result"
    }
   ],
   "source": [
    "s1 = pd.Series([1,5,3], list('abd'))\n",
    "s2 = pd.Series([2,9,4], list('bca'))\n",
    "s1 + s2"
   ]
  },
  {
   "cell_type": "code",
   "execution_count": 71,
   "metadata": {
    "collapsed": false
   },
   "outputs": [
    {
     "data": {
      "text/plain": [
       "array([ 3, 14,  7], dtype=int64)"
      ]
     },
     "execution_count": 71,
     "metadata": {},
     "output_type": "execute_result"
    }
   ],
   "source": [
    "s1.values + s2.values"
   ]
  },
  {
   "cell_type": "code",
   "execution_count": 75,
   "metadata": {
    "collapsed": false
   },
   "outputs": [
    {
     "data": {
      "text/html": [
       "<div>\n",
       "<table border=\"1\" class=\"dataframe\">\n",
       "  <thead>\n",
       "    <tr style=\"text-align: right;\">\n",
       "      <th></th>\n",
       "      <th>index</th>\n",
       "      <th>0</th>\n",
       "    </tr>\n",
       "  </thead>\n",
       "  <tbody>\n",
       "    <tr>\n",
       "      <th>0</th>\n",
       "      <td>a</td>\n",
       "      <td>0</td>\n",
       "    </tr>\n",
       "    <tr>\n",
       "      <th>1</th>\n",
       "      <td>b</td>\n",
       "      <td>0</td>\n",
       "    </tr>\n",
       "    <tr>\n",
       "      <th>2</th>\n",
       "      <td>c</td>\n",
       "      <td>3</td>\n",
       "    </tr>\n",
       "    <tr>\n",
       "      <th>3</th>\n",
       "      <td>d</td>\n",
       "      <td>4</td>\n",
       "    </tr>\n",
       "    <tr>\n",
       "      <th>4</th>\n",
       "      <td>e</td>\n",
       "      <td>0</td>\n",
       "    </tr>\n",
       "  </tbody>\n",
       "</table>\n",
       "</div>"
      ],
      "text/plain": [
       "  index  0\n",
       "0     a  0\n",
       "1     b  0\n",
       "2     c  3\n",
       "3     d  4\n",
       "4     e  0"
      ]
     },
     "execution_count": 75,
     "metadata": {},
     "output_type": "execute_result"
    }
   ],
   "source": [
    "df = s.reset_index() ; df"
   ]
  },
  {
   "cell_type": "code",
   "execution_count": 81,
   "metadata": {
    "collapsed": false
   },
   "outputs": [
    {
     "data": {
      "text/plain": [
       "a    4\n",
       "b    2\n",
       "c    9\n",
       "dtype: int64"
      ]
     },
     "execution_count": 81,
     "metadata": {},
     "output_type": "execute_result"
    }
   ],
   "source": [
    "s2.sort_index()"
   ]
  },
  {
   "cell_type": "code",
   "execution_count": 82,
   "metadata": {
    "collapsed": false
   },
   "outputs": [
    {
     "data": {
      "text/plain": [
       "b    2\n",
       "a    4\n",
       "c    9\n",
       "dtype: int64"
      ]
     },
     "execution_count": 82,
     "metadata": {},
     "output_type": "execute_result"
    }
   ],
   "source": [
    "s2"
   ]
  },
  {
   "cell_type": "code",
   "execution_count": 84,
   "metadata": {
    "collapsed": false
   },
   "outputs": [
    {
     "data": {
      "text/plain": [
       "a    1\n",
       "d    3\n",
       "b    5\n",
       "dtype: int64"
      ]
     },
     "execution_count": 84,
     "metadata": {},
     "output_type": "execute_result"
    }
   ],
   "source": [
    "s1.sort_values()"
   ]
  },
  {
   "cell_type": "code",
   "execution_count": 86,
   "metadata": {
    "collapsed": false
   },
   "outputs": [
    {
     "data": {
      "text/plain": [
       "array([['a', 0L],\n",
       "       ['b', 0L],\n",
       "       ['c', 3L],\n",
       "       ['d', 4L],\n",
       "       ['e', 0L]], dtype=object)"
      ]
     },
     "execution_count": 86,
     "metadata": {},
     "output_type": "execute_result"
    }
   ],
   "source": [
    "df.values #constructs things on the fly"
   ]
  },
  {
   "cell_type": "code",
   "execution_count": 87,
   "metadata": {
    "collapsed": false
   },
   "outputs": [
    {
     "data": {
      "text/plain": [
       "index    object\n",
       "0         int64\n",
       "dtype: object"
      ]
     },
     "execution_count": 87,
     "metadata": {},
     "output_type": "execute_result"
    }
   ],
   "source": [
    "df.dtypes"
   ]
  },
  {
   "cell_type": "code",
   "execution_count": 88,
   "metadata": {
    "collapsed": false
   },
   "outputs": [
    {
     "data": {
      "text/plain": [
       "RangeIndex(start=0, stop=5, step=1)"
      ]
     },
     "execution_count": 88,
     "metadata": {},
     "output_type": "execute_result"
    }
   ],
   "source": [
    "df.index"
   ]
  },
  {
   "cell_type": "code",
   "execution_count": 89,
   "metadata": {
    "collapsed": false
   },
   "outputs": [
    {
     "data": {
      "text/plain": [
       "Index([u'index', 0], dtype='object')"
      ]
     },
     "execution_count": 89,
     "metadata": {},
     "output_type": "execute_result"
    }
   ],
   "source": [
    "df.columns"
   ]
  },
  {
   "cell_type": "code",
   "execution_count": 90,
   "metadata": {
    "collapsed": false
   },
   "outputs": [
    {
     "data": {
      "text/plain": [
       "(5, 2)"
      ]
     },
     "execution_count": 90,
     "metadata": {},
     "output_type": "execute_result"
    }
   ],
   "source": [
    "df.shape"
   ]
  },
  {
   "cell_type": "code",
   "execution_count": 92,
   "metadata": {
    "collapsed": false
   },
   "outputs": [
    {
     "data": {
      "text/plain": [
       "0    a\n",
       "1    b\n",
       "2    c\n",
       "3    d\n",
       "4    e\n",
       "Name: index, dtype: object"
      ]
     },
     "execution_count": 92,
     "metadata": {},
     "output_type": "execute_result"
    }
   ],
   "source": [
    "df['index'] # column"
   ]
  },
  {
   "cell_type": "code",
   "execution_count": 93,
   "metadata": {
    "collapsed": false
   },
   "outputs": [
    {
     "data": {
      "text/plain": [
       "pandas.core.series.Series"
      ]
     },
     "execution_count": 93,
     "metadata": {},
     "output_type": "execute_result"
    }
   ],
   "source": [
    "type(df['index'])"
   ]
  },
  {
   "cell_type": "code",
   "execution_count": 95,
   "metadata": {
    "collapsed": true
   },
   "outputs": [],
   "source": [
    "s = pd.Series([0,1,2])\n",
    "df = pd.DataFrame({'A':s, 'B':-s})"
   ]
  },
  {
   "cell_type": "code",
   "execution_count": 101,
   "metadata": {
    "collapsed": false
   },
   "outputs": [],
   "source": [
    "df['class']=df['A']+df['B']"
   ]
  },
  {
   "cell_type": "code",
   "execution_count": 102,
   "metadata": {
    "collapsed": false
   },
   "outputs": [
    {
     "data": {
      "text/html": [
       "<div>\n",
       "<table border=\"1\" class=\"dataframe\">\n",
       "  <thead>\n",
       "    <tr style=\"text-align: right;\">\n",
       "      <th></th>\n",
       "      <th>A</th>\n",
       "      <th>B</th>\n",
       "      <th>class</th>\n",
       "    </tr>\n",
       "  </thead>\n",
       "  <tbody>\n",
       "    <tr>\n",
       "      <th>0</th>\n",
       "      <td>0</td>\n",
       "      <td>0</td>\n",
       "      <td>0</td>\n",
       "    </tr>\n",
       "    <tr>\n",
       "      <th>1</th>\n",
       "      <td>1</td>\n",
       "      <td>-1</td>\n",
       "      <td>0</td>\n",
       "    </tr>\n",
       "    <tr>\n",
       "      <th>2</th>\n",
       "      <td>2</td>\n",
       "      <td>-2</td>\n",
       "      <td>0</td>\n",
       "    </tr>\n",
       "  </tbody>\n",
       "</table>\n",
       "</div>"
      ],
      "text/plain": [
       "   A  B  class\n",
       "0  0  0      0\n",
       "1  1 -1      0\n",
       "2  2 -2      0"
      ]
     },
     "execution_count": 102,
     "metadata": {},
     "output_type": "execute_result"
    }
   ],
   "source": [
    "df"
   ]
  },
  {
   "cell_type": "code",
   "execution_count": 106,
   "metadata": {
    "collapsed": false
   },
   "outputs": [
    {
     "data": {
      "text/plain": [
       "0    0\n",
       "1    1\n",
       "2    2\n",
       "Name: A, dtype: int64"
      ]
     },
     "execution_count": 106,
     "metadata": {},
     "output_type": "execute_result"
    }
   ],
   "source": [
    "df['class']\n",
    "df['A']"
   ]
  },
  {
   "cell_type": "code",
   "execution_count": 105,
   "metadata": {
    "collapsed": false
   },
   "outputs": [
    {
     "ename": "SyntaxError",
     "evalue": "invalid syntax (<ipython-input-105-1762513c6e34>, line 1)",
     "output_type": "error",
     "traceback": [
      "\u001b[0;36m  File \u001b[0;32m\"<ipython-input-105-1762513c6e34>\"\u001b[0;36m, line \u001b[0;32m1\u001b[0m\n\u001b[0;31m    df.class\u001b[0m\n\u001b[0m           ^\u001b[0m\n\u001b[0;31mSyntaxError\u001b[0m\u001b[0;31m:\u001b[0m invalid syntax\n"
     ]
    }
   ],
   "source": [
    "df.class # DONT"
   ]
  },
  {
   "cell_type": "code",
   "execution_count": 110,
   "metadata": {
    "collapsed": false
   },
   "outputs": [
    {
     "data": {
      "text/plain": [
       "1"
      ]
     },
     "execution_count": 110,
     "metadata": {},
     "output_type": "execute_result"
    }
   ],
   "source": [
    "df['A'][1]"
   ]
  },
  {
   "cell_type": "code",
   "execution_count": 112,
   "metadata": {
    "collapsed": false
   },
   "outputs": [
    {
     "data": {
      "text/html": [
       "<div>\n",
       "<table border=\"1\" class=\"dataframe\">\n",
       "  <thead>\n",
       "    <tr style=\"text-align: right;\">\n",
       "      <th></th>\n",
       "      <th>A</th>\n",
       "      <th>B</th>\n",
       "    </tr>\n",
       "  </thead>\n",
       "  <tbody>\n",
       "    <tr>\n",
       "      <th>0</th>\n",
       "      <td>0</td>\n",
       "      <td>0</td>\n",
       "    </tr>\n",
       "    <tr>\n",
       "      <th>1</th>\n",
       "      <td>1</td>\n",
       "      <td>-1</td>\n",
       "    </tr>\n",
       "    <tr>\n",
       "      <th>2</th>\n",
       "      <td>2</td>\n",
       "      <td>-2</td>\n",
       "    </tr>\n",
       "  </tbody>\n",
       "</table>\n",
       "</div>"
      ],
      "text/plain": [
       "   A  B\n",
       "0  0  0\n",
       "1  1 -1\n",
       "2  2 -2"
      ]
     },
     "execution_count": 112,
     "metadata": {},
     "output_type": "execute_result"
    }
   ],
   "source": [
    "df[['A', 'B']]"
   ]
  },
  {
   "cell_type": "code",
   "execution_count": 113,
   "metadata": {
    "collapsed": false
   },
   "outputs": [
    {
     "data": {
      "text/plain": [
       "A        0\n",
       "B        0\n",
       "class    0\n",
       "Name: 0, dtype: int64"
      ]
     },
     "execution_count": 113,
     "metadata": {},
     "output_type": "execute_result"
    }
   ],
   "source": [
    "df.iloc[0]"
   ]
  },
  {
   "cell_type": "code",
   "execution_count": 115,
   "metadata": {
    "collapsed": false
   },
   "outputs": [
    {
     "data": {
      "text/plain": [
       "A        2\n",
       "B       -2\n",
       "class    0\n",
       "Name: 2, dtype: int64"
      ]
     },
     "execution_count": 115,
     "metadata": {},
     "output_type": "execute_result"
    }
   ],
   "source": [
    "df.loc[2] # raws now first"
   ]
  },
  {
   "cell_type": "code",
   "execution_count": 117,
   "metadata": {
    "collapsed": false
   },
   "outputs": [
    {
     "data": {
      "text/html": [
       "<div>\n",
       "<table border=\"1\" class=\"dataframe\">\n",
       "  <thead>\n",
       "    <tr style=\"text-align: right;\">\n",
       "      <th></th>\n",
       "      <th>A</th>\n",
       "      <th>B</th>\n",
       "      <th>class</th>\n",
       "    </tr>\n",
       "  </thead>\n",
       "  <tbody>\n",
       "    <tr>\n",
       "      <th>0</th>\n",
       "      <td>0</td>\n",
       "      <td>0</td>\n",
       "      <td>0</td>\n",
       "    </tr>\n",
       "    <tr>\n",
       "      <th>1</th>\n",
       "      <td>1</td>\n",
       "      <td>-1</td>\n",
       "      <td>0</td>\n",
       "    </tr>\n",
       "    <tr>\n",
       "      <th>2</th>\n",
       "      <td>2</td>\n",
       "      <td>-2</td>\n",
       "      <td>0</td>\n",
       "    </tr>\n",
       "  </tbody>\n",
       "</table>\n",
       "</div>"
      ],
      "text/plain": [
       "   A  B  class\n",
       "0  0  0      0\n",
       "1  1 -1      0\n",
       "2  2 -2      0"
      ]
     },
     "execution_count": 117,
     "metadata": {},
     "output_type": "execute_result"
    }
   ],
   "source": [
    "df.loc[:2]"
   ]
  },
  {
   "cell_type": "code",
   "execution_count": 118,
   "metadata": {
    "collapsed": false
   },
   "outputs": [
    {
     "data": {
      "text/html": [
       "<div>\n",
       "<table border=\"1\" class=\"dataframe\">\n",
       "  <thead>\n",
       "    <tr style=\"text-align: right;\">\n",
       "      <th></th>\n",
       "      <th>A</th>\n",
       "      <th>B</th>\n",
       "      <th>class</th>\n",
       "    </tr>\n",
       "  </thead>\n",
       "  <tbody>\n",
       "    <tr>\n",
       "      <th>0</th>\n",
       "      <td>0</td>\n",
       "      <td>0</td>\n",
       "      <td>0</td>\n",
       "    </tr>\n",
       "    <tr>\n",
       "      <th>1</th>\n",
       "      <td>1</td>\n",
       "      <td>-1</td>\n",
       "      <td>0</td>\n",
       "    </tr>\n",
       "    <tr>\n",
       "      <th>2</th>\n",
       "      <td>2</td>\n",
       "      <td>-2</td>\n",
       "      <td>0</td>\n",
       "    </tr>\n",
       "  </tbody>\n",
       "</table>\n",
       "</div>"
      ],
      "text/plain": [
       "   A  B  class\n",
       "0  0  0      0\n",
       "1  1 -1      0\n",
       "2  2 -2      0"
      ]
     },
     "execution_count": 118,
     "metadata": {},
     "output_type": "execute_result"
    }
   ],
   "source": [
    "df.ix[:2]"
   ]
  },
  {
   "cell_type": "code",
   "execution_count": 119,
   "metadata": {
    "collapsed": true
   },
   "outputs": [],
   "source": [
    "a = 2 ** np.arange(10)"
   ]
  },
  {
   "cell_type": "code",
   "execution_count": 121,
   "metadata": {
    "collapsed": false
   },
   "outputs": [
    {
     "ename": "ValueError",
     "evalue": "The truth value of an array with more than one element is ambiguous. Use a.any() or a.all()",
     "output_type": "error",
     "traceback": [
      "\u001b[0;31m---------------------------------------------------------------------------\u001b[0m",
      "\u001b[0;31mValueError\u001b[0m                                Traceback (most recent call last)",
      "\u001b[0;32m<ipython-input-121-1f4c18021b52>\u001b[0m in \u001b[0;36m<module>\u001b[0;34m()\u001b[0m\n\u001b[0;32m----> 1\u001b[0;31m \u001b[0ma\u001b[0m \u001b[1;33m>\u001b[0m \u001b[1;36m10\u001b[0m \u001b[1;32mand\u001b[0m \u001b[0ma\u001b[0m \u001b[1;33m<\u001b[0m \u001b[1;36m100\u001b[0m\u001b[1;33m\u001b[0m\u001b[0m\n\u001b[0m",
      "\u001b[0;31mValueError\u001b[0m: The truth value of an array with more than one element is ambiguous. Use a.any() or a.all()"
     ]
    }
   ],
   "source": [
    "a > 10 and a < 100"
   ]
  },
  {
   "cell_type": "code",
   "execution_count": 122,
   "metadata": {
    "collapsed": false
   },
   "outputs": [
    {
     "ename": "ValueError",
     "evalue": "The truth value of an array with more than one element is ambiguous. Use a.any() or a.all()",
     "output_type": "error",
     "traceback": [
      "\u001b[0;31m---------------------------------------------------------------------------\u001b[0m",
      "\u001b[0;31mValueError\u001b[0m                                Traceback (most recent call last)",
      "\u001b[0;32m<ipython-input-122-da5ac5ec0533>\u001b[0m in \u001b[0;36m<module>\u001b[0;34m()\u001b[0m\n\u001b[0;32m----> 1\u001b[0;31m \u001b[0ma\u001b[0m \u001b[1;33m>\u001b[0m \u001b[1;36m10\u001b[0m \u001b[1;33m&\u001b[0m \u001b[0ma\u001b[0m \u001b[1;33m<\u001b[0m \u001b[1;36m100\u001b[0m\u001b[1;33m\u001b[0m\u001b[0m\n\u001b[0m",
      "\u001b[0;31mValueError\u001b[0m: The truth value of an array with more than one element is ambiguous. Use a.any() or a.all()"
     ]
    }
   ],
   "source": [
    "a > 10 & a < 100"
   ]
  },
  {
   "cell_type": "code",
   "execution_count": 123,
   "metadata": {
    "collapsed": false
   },
   "outputs": [
    {
     "data": {
      "text/plain": [
       "array([False, False, False, False,  True,  True,  True, False, False, False], dtype=bool)"
      ]
     },
     "execution_count": 123,
     "metadata": {},
     "output_type": "execute_result"
    }
   ],
   "source": [
    "(a > 10) & (a < 100)"
   ]
  },
  {
   "cell_type": "code",
   "execution_count": 125,
   "metadata": {
    "collapsed": false
   },
   "outputs": [
    {
     "name": "stderr",
     "output_type": "stream",
     "text": [
      "C:\\Apps\\Utils\\Anaconda2\\lib\\site-packages\\ipykernel\\__main__.py:1: SettingWithCopyWarning: \n",
      "A value is trying to be set on a copy of a slice from a DataFrame.\n",
      "Try using .loc[row_indexer,col_indexer] = value instead\n",
      "\n",
      "See the caveats in the documentation: http://pandas.pydata.org/pandas-docs/stable/indexing.html#indexing-view-versus-copy\n",
      "  if __name__ == '__main__':\n"
     ]
    }
   ],
   "source": [
    "df[df.A==1][0]=99 # does not work"
   ]
  },
  {
   "cell_type": "code",
   "execution_count": 133,
   "metadata": {
    "collapsed": false
   },
   "outputs": [
    {
     "data": {
      "text/html": [
       "<div>\n",
       "<table border=\"1\" class=\"dataframe\">\n",
       "  <thead>\n",
       "    <tr style=\"text-align: right;\">\n",
       "      <th></th>\n",
       "      <th>A</th>\n",
       "      <th>B</th>\n",
       "      <th>class</th>\n",
       "      <th>1</th>\n",
       "    </tr>\n",
       "  </thead>\n",
       "  <tbody>\n",
       "    <tr>\n",
       "      <th>2</th>\n",
       "      <td>2</td>\n",
       "      <td>-2</td>\n",
       "      <td>0</td>\n",
       "      <td>NaN</td>\n",
       "    </tr>\n",
       "  </tbody>\n",
       "</table>\n",
       "</div>"
      ],
      "text/plain": [
       "   A  B  class   1\n",
       "2  2 -2      0 NaN"
      ]
     },
     "execution_count": 133,
     "metadata": {},
     "output_type": "execute_result"
    }
   ],
   "source": [
    "df[df.A==2]    "
   ]
  },
  {
   "cell_type": "code",
   "execution_count": 128,
   "metadata": {
    "collapsed": false
   },
   "outputs": [
    {
     "data": {
      "text/html": [
       "<div>\n",
       "<table border=\"1\" class=\"dataframe\">\n",
       "  <thead>\n",
       "    <tr style=\"text-align: right;\">\n",
       "      <th></th>\n",
       "      <th>A</th>\n",
       "      <th>B</th>\n",
       "      <th>class</th>\n",
       "      <th>1</th>\n",
       "    </tr>\n",
       "  </thead>\n",
       "  <tbody>\n",
       "    <tr>\n",
       "      <th>0</th>\n",
       "      <td>0</td>\n",
       "      <td>0</td>\n",
       "      <td>0</td>\n",
       "      <td>NaN</td>\n",
       "    </tr>\n",
       "    <tr>\n",
       "      <th>1</th>\n",
       "      <td>1</td>\n",
       "      <td>-1</td>\n",
       "      <td>0</td>\n",
       "      <td>99.0</td>\n",
       "    </tr>\n",
       "    <tr>\n",
       "      <th>2</th>\n",
       "      <td>2</td>\n",
       "      <td>-2</td>\n",
       "      <td>0</td>\n",
       "      <td>NaN</td>\n",
       "    </tr>\n",
       "  </tbody>\n",
       "</table>\n",
       "</div>"
      ],
      "text/plain": [
       "   A  B  class     1\n",
       "0  0  0      0   NaN\n",
       "1  1 -1      0  99.0\n",
       "2  2 -2      0   NaN"
      ]
     },
     "execution_count": 128,
     "metadata": {},
     "output_type": "execute_result"
    }
   ],
   "source": [
    "df.loc[df.A == 1,1]=99 # use this"
   ]
  },
  {
   "cell_type": "code",
   "execution_count": 136,
   "metadata": {
    "collapsed": false
   },
   "outputs": [],
   "source": [
    "data = np.arange(12).reshape(4,3)\n",
    "df = pd.DataFrame(data, index=['one', 'two', 'three', 'four'],\n",
    "                 columns=['X', 'Y', 'Z'])"
   ]
  },
  {
   "cell_type": "code",
   "execution_count": 141,
   "metadata": {
    "collapsed": false
   },
   "outputs": [
    {
     "data": {
      "text/plain": [
       "one       1\n",
       "two       4\n",
       "three     7\n",
       "four     10\n",
       "Name: Y, dtype: int32"
      ]
     },
     "execution_count": 141,
     "metadata": {},
     "output_type": "execute_result"
    }
   ],
   "source": [
    "df['Y']"
   ]
  },
  {
   "cell_type": "code",
   "execution_count": 142,
   "metadata": {
    "collapsed": false
   },
   "outputs": [
    {
     "data": {
      "text/html": [
       "<div>\n",
       "<table border=\"1\" class=\"dataframe\">\n",
       "  <thead>\n",
       "    <tr style=\"text-align: right;\">\n",
       "      <th></th>\n",
       "      <th>X</th>\n",
       "      <th>Y</th>\n",
       "      <th>Z</th>\n",
       "    </tr>\n",
       "  </thead>\n",
       "  <tbody>\n",
       "    <tr>\n",
       "      <th>one</th>\n",
       "      <td>0</td>\n",
       "      <td>1</td>\n",
       "      <td>2</td>\n",
       "    </tr>\n",
       "    <tr>\n",
       "      <th>two</th>\n",
       "      <td>3</td>\n",
       "      <td>4</td>\n",
       "      <td>5</td>\n",
       "    </tr>\n",
       "    <tr>\n",
       "      <th>three</th>\n",
       "      <td>6</td>\n",
       "      <td>7</td>\n",
       "      <td>8</td>\n",
       "    </tr>\n",
       "    <tr>\n",
       "      <th>four</th>\n",
       "      <td>9</td>\n",
       "      <td>10</td>\n",
       "      <td>11</td>\n",
       "    </tr>\n",
       "  </tbody>\n",
       "</table>\n",
       "</div>"
      ],
      "text/plain": [
       "       X   Y   Z\n",
       "one    0   1   2\n",
       "two    3   4   5\n",
       "three  6   7   8\n",
       "four   9  10  11"
      ]
     },
     "execution_count": 142,
     "metadata": {},
     "output_type": "execute_result"
    }
   ],
   "source": [
    "df"
   ]
  },
  {
   "cell_type": "code",
   "execution_count": 147,
   "metadata": {
    "collapsed": false
   },
   "outputs": [
    {
     "data": {
      "text/plain": [
       "X    6\n",
       "Y    7\n",
       "Z    8\n",
       "Name: three, dtype: int32"
      ]
     },
     "execution_count": 147,
     "metadata": {},
     "output_type": "execute_result"
    }
   ],
   "source": [
    "df.loc['three']"
   ]
  },
  {
   "cell_type": "code",
   "execution_count": 152,
   "metadata": {
    "collapsed": false
   },
   "outputs": [
    {
     "data": {
      "text/html": [
       "<div>\n",
       "<table border=\"1\" class=\"dataframe\">\n",
       "  <thead>\n",
       "    <tr style=\"text-align: right;\">\n",
       "      <th></th>\n",
       "      <th>X</th>\n",
       "      <th>Y</th>\n",
       "      <th>Z</th>\n",
       "    </tr>\n",
       "  </thead>\n",
       "  <tbody>\n",
       "    <tr>\n",
       "      <th>two</th>\n",
       "      <td>3</td>\n",
       "      <td>4</td>\n",
       "      <td>5</td>\n",
       "    </tr>\n",
       "    <tr>\n",
       "      <th>four</th>\n",
       "      <td>9</td>\n",
       "      <td>10</td>\n",
       "      <td>11</td>\n",
       "    </tr>\n",
       "  </tbody>\n",
       "</table>\n",
       "</div>"
      ],
      "text/plain": [
       "      X   Y   Z\n",
       "two   3   4   5\n",
       "four  9  10  11"
      ]
     },
     "execution_count": 152,
     "metadata": {},
     "output_type": "execute_result"
    }
   ],
   "source": [
    "df.iloc[[1, 3]]"
   ]
  },
  {
   "cell_type": "code",
   "execution_count": 156,
   "metadata": {
    "collapsed": false
   },
   "outputs": [
    {
     "data": {
      "text/html": [
       "<div>\n",
       "<table border=\"1\" class=\"dataframe\">\n",
       "  <thead>\n",
       "    <tr style=\"text-align: right;\">\n",
       "      <th></th>\n",
       "      <th>Y</th>\n",
       "      <th>Z</th>\n",
       "    </tr>\n",
       "  </thead>\n",
       "  <tbody>\n",
       "    <tr>\n",
       "      <th>two</th>\n",
       "      <td>4</td>\n",
       "      <td>5</td>\n",
       "    </tr>\n",
       "    <tr>\n",
       "      <th>three</th>\n",
       "      <td>7</td>\n",
       "      <td>8</td>\n",
       "    </tr>\n",
       "  </tbody>\n",
       "</table>\n",
       "</div>"
      ],
      "text/plain": [
       "       Y  Z\n",
       "two    4  5\n",
       "three  7  8"
      ]
     },
     "execution_count": 156,
     "metadata": {},
     "output_type": "execute_result"
    }
   ],
   "source": [
    "df[['Y', 'Z']].loc[['two', 'three']]"
   ]
  },
  {
   "cell_type": "code",
   "execution_count": 160,
   "metadata": {
    "collapsed": false
   },
   "outputs": [
    {
     "data": {
      "text/html": [
       "<div>\n",
       "<table border=\"1\" class=\"dataframe\">\n",
       "  <thead>\n",
       "    <tr style=\"text-align: right;\">\n",
       "      <th></th>\n",
       "      <th>Y</th>\n",
       "      <th>Z</th>\n",
       "    </tr>\n",
       "  </thead>\n",
       "  <tbody>\n",
       "    <tr>\n",
       "      <th>two</th>\n",
       "      <td>4</td>\n",
       "      <td>5</td>\n",
       "    </tr>\n",
       "    <tr>\n",
       "      <th>three</th>\n",
       "      <td>7</td>\n",
       "      <td>8</td>\n",
       "    </tr>\n",
       "  </tbody>\n",
       "</table>\n",
       "</div>"
      ],
      "text/plain": [
       "       Y  Z\n",
       "two    4  5\n",
       "three  7  8"
      ]
     },
     "execution_count": 160,
     "metadata": {},
     "output_type": "execute_result"
    }
   ],
   "source": [
    "df.loc[['two', 'three'], ['Y', 'Z']]"
   ]
  },
  {
   "cell_type": "code",
   "execution_count": 164,
   "metadata": {
    "collapsed": false
   },
   "outputs": [
    {
     "data": {
      "text/html": [
       "<div>\n",
       "<table border=\"1\" class=\"dataframe\">\n",
       "  <thead>\n",
       "    <tr style=\"text-align: right;\">\n",
       "      <th></th>\n",
       "      <th>X</th>\n",
       "      <th>Y</th>\n",
       "      <th>Z</th>\n",
       "    </tr>\n",
       "  </thead>\n",
       "  <tbody>\n",
       "    <tr>\n",
       "      <th>c</th>\n",
       "      <td>NaN</td>\n",
       "      <td>NaN</td>\n",
       "      <td>NaN</td>\n",
       "    </tr>\n",
       "    <tr>\n",
       "      <th>a</th>\n",
       "      <td>NaN</td>\n",
       "      <td>NaN</td>\n",
       "      <td>NaN</td>\n",
       "    </tr>\n",
       "    <tr>\n",
       "      <th>e</th>\n",
       "      <td>NaN</td>\n",
       "      <td>NaN</td>\n",
       "      <td>NaN</td>\n",
       "    </tr>\n",
       "    <tr>\n",
       "      <th>one</th>\n",
       "      <td>0.0</td>\n",
       "      <td>1.0</td>\n",
       "      <td>2.0</td>\n",
       "    </tr>\n",
       "  </tbody>\n",
       "</table>\n",
       "</div>"
      ],
      "text/plain": [
       "       X    Y    Z\n",
       "c    NaN  NaN  NaN\n",
       "a    NaN  NaN  NaN\n",
       "e    NaN  NaN  NaN\n",
       "one  0.0  1.0  2.0"
      ]
     },
     "execution_count": 164,
     "metadata": {},
     "output_type": "execute_result"
    }
   ],
   "source": [
    "df.reindex(['c', 'a', 'e', 'one'])"
   ]
  },
  {
   "cell_type": "code",
   "execution_count": 165,
   "metadata": {
    "collapsed": false
   },
   "outputs": [
    {
     "data": {
      "text/html": [
       "<div>\n",
       "<table border=\"1\" class=\"dataframe\">\n",
       "  <thead>\n",
       "    <tr style=\"text-align: right;\">\n",
       "      <th></th>\n",
       "      <th>X</th>\n",
       "      <th>Y</th>\n",
       "      <th>Z</th>\n",
       "    </tr>\n",
       "  </thead>\n",
       "  <tbody>\n",
       "    <tr>\n",
       "      <th>four</th>\n",
       "      <td>9</td>\n",
       "      <td>10</td>\n",
       "      <td>11</td>\n",
       "    </tr>\n",
       "    <tr>\n",
       "      <th>one</th>\n",
       "      <td>0</td>\n",
       "      <td>1</td>\n",
       "      <td>2</td>\n",
       "    </tr>\n",
       "    <tr>\n",
       "      <th>three</th>\n",
       "      <td>6</td>\n",
       "      <td>7</td>\n",
       "      <td>8</td>\n",
       "    </tr>\n",
       "    <tr>\n",
       "      <th>two</th>\n",
       "      <td>3</td>\n",
       "      <td>4</td>\n",
       "      <td>5</td>\n",
       "    </tr>\n",
       "  </tbody>\n",
       "</table>\n",
       "</div>"
      ],
      "text/plain": [
       "       X   Y   Z\n",
       "four   9  10  11\n",
       "one    0   1   2\n",
       "three  6   7   8\n",
       "two    3   4   5"
      ]
     },
     "execution_count": 165,
     "metadata": {},
     "output_type": "execute_result"
    }
   ],
   "source": [
    "df.sort_index()"
   ]
  },
  {
   "cell_type": "code",
   "execution_count": 166,
   "metadata": {
    "collapsed": false
   },
   "outputs": [
    {
     "data": {
      "text/html": [
       "<div>\n",
       "<table border=\"1\" class=\"dataframe\">\n",
       "  <thead>\n",
       "    <tr style=\"text-align: right;\">\n",
       "      <th></th>\n",
       "      <th>Y</th>\n",
       "      <th>Z</th>\n",
       "    </tr>\n",
       "    <tr>\n",
       "      <th>X</th>\n",
       "      <th></th>\n",
       "      <th></th>\n",
       "    </tr>\n",
       "  </thead>\n",
       "  <tbody>\n",
       "    <tr>\n",
       "      <th>0</th>\n",
       "      <td>1</td>\n",
       "      <td>2</td>\n",
       "    </tr>\n",
       "    <tr>\n",
       "      <th>3</th>\n",
       "      <td>4</td>\n",
       "      <td>5</td>\n",
       "    </tr>\n",
       "    <tr>\n",
       "      <th>6</th>\n",
       "      <td>7</td>\n",
       "      <td>8</td>\n",
       "    </tr>\n",
       "    <tr>\n",
       "      <th>9</th>\n",
       "      <td>10</td>\n",
       "      <td>11</td>\n",
       "    </tr>\n",
       "  </tbody>\n",
       "</table>\n",
       "</div>"
      ],
      "text/plain": [
       "    Y   Z\n",
       "X        \n",
       "0   1   2\n",
       "3   4   5\n",
       "6   7   8\n",
       "9  10  11"
      ]
     },
     "execution_count": 166,
     "metadata": {},
     "output_type": "execute_result"
    }
   ],
   "source": [
    "df.set_index('X')"
   ]
  },
  {
   "cell_type": "code",
   "execution_count": 170,
   "metadata": {
    "collapsed": false
   },
   "outputs": [
    {
     "data": {
      "text/html": [
       "<div>\n",
       "<table border=\"1\" class=\"dataframe\">\n",
       "  <thead>\n",
       "    <tr style=\"text-align: right;\">\n",
       "      <th></th>\n",
       "      <th>X</th>\n",
       "      <th>Y</th>\n",
       "      <th>Z</th>\n",
       "    </tr>\n",
       "  </thead>\n",
       "  <tbody>\n",
       "    <tr>\n",
       "      <th>one</th>\n",
       "      <td>0</td>\n",
       "      <td>1</td>\n",
       "      <td>2</td>\n",
       "    </tr>\n",
       "    <tr>\n",
       "      <th>two</th>\n",
       "      <td>3</td>\n",
       "      <td>4</td>\n",
       "      <td>5</td>\n",
       "    </tr>\n",
       "    <tr>\n",
       "      <th>three</th>\n",
       "      <td>6</td>\n",
       "      <td>7</td>\n",
       "      <td>8</td>\n",
       "    </tr>\n",
       "    <tr>\n",
       "      <th>four</th>\n",
       "      <td>9</td>\n",
       "      <td>10</td>\n",
       "      <td>11</td>\n",
       "    </tr>\n",
       "  </tbody>\n",
       "</table>\n",
       "</div>"
      ],
      "text/plain": [
       "       X   Y   Z\n",
       "one    0   1   2\n",
       "two    3   4   5\n",
       "three  6   7   8\n",
       "four   9  10  11"
      ]
     },
     "execution_count": 170,
     "metadata": {},
     "output_type": "execute_result"
    }
   ],
   "source": [
    "df.reindex()"
   ]
  },
  {
   "cell_type": "code",
   "execution_count": 172,
   "metadata": {
    "collapsed": false
   },
   "outputs": [
    {
     "data": {
      "text/html": [
       "<div>\n",
       "<table border=\"1\" class=\"dataframe\">\n",
       "  <thead>\n",
       "    <tr style=\"text-align: right;\">\n",
       "      <th></th>\n",
       "      <th>X</th>\n",
       "      <th>Y</th>\n",
       "      <th>Z</th>\n",
       "    </tr>\n",
       "  </thead>\n",
       "  <tbody>\n",
       "    <tr>\n",
       "      <th>two</th>\n",
       "      <td>3</td>\n",
       "      <td>4</td>\n",
       "      <td>5</td>\n",
       "    </tr>\n",
       "    <tr>\n",
       "      <th>three</th>\n",
       "      <td>6</td>\n",
       "      <td>7</td>\n",
       "      <td>8</td>\n",
       "    </tr>\n",
       "    <tr>\n",
       "      <th>four</th>\n",
       "      <td>9</td>\n",
       "      <td>10</td>\n",
       "      <td>11</td>\n",
       "    </tr>\n",
       "  </tbody>\n",
       "</table>\n",
       "</div>"
      ],
      "text/plain": [
       "       X   Y   Z\n",
       "two    3   4   5\n",
       "three  6   7   8\n",
       "four   9  10  11"
      ]
     },
     "execution_count": 172,
     "metadata": {},
     "output_type": "execute_result"
    }
   ],
   "source": [
    "df.drop('one')"
   ]
  },
  {
   "cell_type": "code",
   "execution_count": 171,
   "metadata": {
    "collapsed": false
   },
   "outputs": [
    {
     "data": {
      "text/html": [
       "<div>\n",
       "<table border=\"1\" class=\"dataframe\">\n",
       "  <thead>\n",
       "    <tr style=\"text-align: right;\">\n",
       "      <th></th>\n",
       "      <th>X</th>\n",
       "      <th>Y</th>\n",
       "    </tr>\n",
       "  </thead>\n",
       "  <tbody>\n",
       "    <tr>\n",
       "      <th>one</th>\n",
       "      <td>0</td>\n",
       "      <td>1</td>\n",
       "    </tr>\n",
       "    <tr>\n",
       "      <th>two</th>\n",
       "      <td>3</td>\n",
       "      <td>4</td>\n",
       "    </tr>\n",
       "    <tr>\n",
       "      <th>three</th>\n",
       "      <td>6</td>\n",
       "      <td>7</td>\n",
       "    </tr>\n",
       "    <tr>\n",
       "      <th>four</th>\n",
       "      <td>9</td>\n",
       "      <td>10</td>\n",
       "    </tr>\n",
       "  </tbody>\n",
       "</table>\n",
       "</div>"
      ],
      "text/plain": [
       "       X   Y\n",
       "one    0   1\n",
       "two    3   4\n",
       "three  6   7\n",
       "four   9  10"
      ]
     },
     "execution_count": 171,
     "metadata": {},
     "output_type": "execute_result"
    }
   ],
   "source": [
    "df.drop('Z', axis=1)"
   ]
  },
  {
   "cell_type": "code",
   "execution_count": 223,
   "metadata": {
    "collapsed": false
   },
   "outputs": [
    {
     "data": {
      "text/plain": [
       "array([[10,  7,  5],\n",
       "       [10, 10,  6],\n",
       "       [11,  2,  3],\n",
       "       [ 8,  7,  5]])"
      ]
     },
     "execution_count": 223,
     "metadata": {},
     "output_type": "execute_result"
    }
   ],
   "source": [
    "data = np.random.randint(12, size=(4,3)); data"
   ]
  },
  {
   "cell_type": "code",
   "execution_count": 224,
   "metadata": {
    "collapsed": false
   },
   "outputs": [
    {
     "data": {
      "text/html": [
       "<div>\n",
       "<table border=\"1\" class=\"dataframe\">\n",
       "  <thead>\n",
       "    <tr style=\"text-align: right;\">\n",
       "      <th></th>\n",
       "      <th>X</th>\n",
       "      <th>Y</th>\n",
       "      <th>Z</th>\n",
       "    </tr>\n",
       "  </thead>\n",
       "  <tbody>\n",
       "    <tr>\n",
       "      <th>one</th>\n",
       "      <td>10</td>\n",
       "      <td>7</td>\n",
       "      <td>5</td>\n",
       "    </tr>\n",
       "    <tr>\n",
       "      <th>two</th>\n",
       "      <td>10</td>\n",
       "      <td>10</td>\n",
       "      <td>6</td>\n",
       "    </tr>\n",
       "    <tr>\n",
       "      <th>three</th>\n",
       "      <td>11</td>\n",
       "      <td>2</td>\n",
       "      <td>3</td>\n",
       "    </tr>\n",
       "    <tr>\n",
       "      <th>four</th>\n",
       "      <td>8</td>\n",
       "      <td>7</td>\n",
       "      <td>5</td>\n",
       "    </tr>\n",
       "  </tbody>\n",
       "</table>\n",
       "</div>"
      ],
      "text/plain": [
       "        X   Y  Z\n",
       "one    10   7  5\n",
       "two    10  10  6\n",
       "three  11   2  3\n",
       "four    8   7  5"
      ]
     },
     "execution_count": 224,
     "metadata": {},
     "output_type": "execute_result"
    }
   ],
   "source": [
    "df = pd.DataFrame(data, index=['one', 'two', 'three', 'four'],\n",
    "                 columns=['X', 'Y', 'Z'])\n",
    "df"
   ]
  },
  {
   "cell_type": "code",
   "execution_count": 225,
   "metadata": {
    "collapsed": false
   },
   "outputs": [
    {
     "data": {
      "text/html": [
       "<div>\n",
       "<table border=\"1\" class=\"dataframe\">\n",
       "  <thead>\n",
       "    <tr style=\"text-align: right;\">\n",
       "      <th></th>\n",
       "      <th>A</th>\n",
       "      <th>B</th>\n",
       "      <th>C</th>\n",
       "    </tr>\n",
       "  </thead>\n",
       "  <tbody>\n",
       "    <tr>\n",
       "      <th>one</th>\n",
       "      <td>10</td>\n",
       "      <td>7</td>\n",
       "      <td>5</td>\n",
       "    </tr>\n",
       "    <tr>\n",
       "      <th>two</th>\n",
       "      <td>10</td>\n",
       "      <td>10</td>\n",
       "      <td>6</td>\n",
       "    </tr>\n",
       "    <tr>\n",
       "      <th>three</th>\n",
       "      <td>11</td>\n",
       "      <td>2</td>\n",
       "      <td>3</td>\n",
       "    </tr>\n",
       "    <tr>\n",
       "      <th>four</th>\n",
       "      <td>8</td>\n",
       "      <td>7</td>\n",
       "      <td>5</td>\n",
       "    </tr>\n",
       "  </tbody>\n",
       "</table>\n",
       "</div>"
      ],
      "text/plain": [
       "        A   B  C\n",
       "one    10   7  5\n",
       "two    10  10  6\n",
       "three  11   2  3\n",
       "four    8   7  5"
      ]
     },
     "execution_count": 225,
     "metadata": {},
     "output_type": "execute_result"
    }
   ],
   "source": [
    "df.rename(columns={'X':'A', 'Y':'B', 'Z':'C'}, inplace=True) ; df"
   ]
  },
  {
   "cell_type": "code",
   "execution_count": 214,
   "metadata": {
    "collapsed": false
   },
   "outputs": [
    {
     "data": {
      "text/html": [
       "<div>\n",
       "<table border=\"1\" class=\"dataframe\">\n",
       "  <thead>\n",
       "    <tr style=\"text-align: right;\">\n",
       "      <th></th>\n",
       "      <th>A</th>\n",
       "      <th>B</th>\n",
       "    </tr>\n",
       "    <tr>\n",
       "      <th>C</th>\n",
       "      <th></th>\n",
       "      <th></th>\n",
       "    </tr>\n",
       "  </thead>\n",
       "  <tbody>\n",
       "    <tr>\n",
       "      <th>7</th>\n",
       "      <td>2</td>\n",
       "      <td>0</td>\n",
       "    </tr>\n",
       "    <tr>\n",
       "      <th>0</th>\n",
       "      <td>6</td>\n",
       "      <td>2</td>\n",
       "    </tr>\n",
       "    <tr>\n",
       "      <th>9</th>\n",
       "      <td>2</td>\n",
       "      <td>10</td>\n",
       "    </tr>\n",
       "    <tr>\n",
       "      <th>1</th>\n",
       "      <td>2</td>\n",
       "      <td>6</td>\n",
       "    </tr>\n",
       "  </tbody>\n",
       "</table>\n",
       "</div>"
      ],
      "text/plain": [
       "   A   B\n",
       "C       \n",
       "7  2   0\n",
       "0  6   2\n",
       "9  2  10\n",
       "1  2   6"
      ]
     },
     "execution_count": 214,
     "metadata": {},
     "output_type": "execute_result"
    }
   ],
   "source": [
    "df = df.set_index('C') ; df"
   ]
  },
  {
   "cell_type": "code",
   "execution_count": 215,
   "metadata": {
    "collapsed": false
   },
   "outputs": [
    {
     "data": {
      "text/html": [
       "<div>\n",
       "<table border=\"1\" class=\"dataframe\">\n",
       "  <thead>\n",
       "    <tr style=\"text-align: right;\">\n",
       "      <th></th>\n",
       "      <th>A</th>\n",
       "      <th>B</th>\n",
       "    </tr>\n",
       "    <tr>\n",
       "      <th>C</th>\n",
       "      <th></th>\n",
       "      <th></th>\n",
       "    </tr>\n",
       "  </thead>\n",
       "  <tbody>\n",
       "    <tr>\n",
       "      <th>0</th>\n",
       "      <td>6</td>\n",
       "      <td>2</td>\n",
       "    </tr>\n",
       "    <tr>\n",
       "      <th>1</th>\n",
       "      <td>2</td>\n",
       "      <td>6</td>\n",
       "    </tr>\n",
       "    <tr>\n",
       "      <th>7</th>\n",
       "      <td>2</td>\n",
       "      <td>0</td>\n",
       "    </tr>\n",
       "    <tr>\n",
       "      <th>9</th>\n",
       "      <td>2</td>\n",
       "      <td>10</td>\n",
       "    </tr>\n",
       "  </tbody>\n",
       "</table>\n",
       "</div>"
      ],
      "text/plain": [
       "   A   B\n",
       "C       \n",
       "0  6   2\n",
       "1  2   6\n",
       "7  2   0\n",
       "9  2  10"
      ]
     },
     "execution_count": 215,
     "metadata": {},
     "output_type": "execute_result"
    }
   ],
   "source": [
    "df = df.sort_index() ; df"
   ]
  },
  {
   "cell_type": "code",
   "execution_count": 216,
   "metadata": {
    "collapsed": false
   },
   "outputs": [
    {
     "data": {
      "text/html": [
       "<div>\n",
       "<table border=\"1\" class=\"dataframe\">\n",
       "  <thead>\n",
       "    <tr style=\"text-align: right;\">\n",
       "      <th></th>\n",
       "      <th>C</th>\n",
       "      <th>A</th>\n",
       "      <th>B</th>\n",
       "    </tr>\n",
       "  </thead>\n",
       "  <tbody>\n",
       "    <tr>\n",
       "      <th>0</th>\n",
       "      <td>0</td>\n",
       "      <td>6</td>\n",
       "      <td>2</td>\n",
       "    </tr>\n",
       "    <tr>\n",
       "      <th>1</th>\n",
       "      <td>1</td>\n",
       "      <td>2</td>\n",
       "      <td>6</td>\n",
       "    </tr>\n",
       "    <tr>\n",
       "      <th>2</th>\n",
       "      <td>7</td>\n",
       "      <td>2</td>\n",
       "      <td>0</td>\n",
       "    </tr>\n",
       "    <tr>\n",
       "      <th>3</th>\n",
       "      <td>9</td>\n",
       "      <td>2</td>\n",
       "      <td>10</td>\n",
       "    </tr>\n",
       "  </tbody>\n",
       "</table>\n",
       "</div>"
      ],
      "text/plain": [
       "   C  A   B\n",
       "0  0  6   2\n",
       "1  1  2   6\n",
       "2  7  2   0\n",
       "3  9  2  10"
      ]
     },
     "execution_count": 216,
     "metadata": {},
     "output_type": "execute_result"
    }
   ],
   "source": [
    "df = df.reset_index() ; df"
   ]
  },
  {
   "cell_type": "code",
   "execution_count": 217,
   "metadata": {
    "collapsed": false
   },
   "outputs": [
    {
     "data": {
      "text/html": [
       "<div>\n",
       "<table border=\"1\" class=\"dataframe\">\n",
       "  <thead>\n",
       "    <tr style=\"text-align: right;\">\n",
       "      <th></th>\n",
       "      <th>C</th>\n",
       "      <th>A</th>\n",
       "    </tr>\n",
       "  </thead>\n",
       "  <tbody>\n",
       "    <tr>\n",
       "      <th>0</th>\n",
       "      <td>0</td>\n",
       "      <td>6</td>\n",
       "    </tr>\n",
       "    <tr>\n",
       "      <th>1</th>\n",
       "      <td>1</td>\n",
       "      <td>2</td>\n",
       "    </tr>\n",
       "    <tr>\n",
       "      <th>2</th>\n",
       "      <td>7</td>\n",
       "      <td>2</td>\n",
       "    </tr>\n",
       "    <tr>\n",
       "      <th>3</th>\n",
       "      <td>9</td>\n",
       "      <td>2</td>\n",
       "    </tr>\n",
       "  </tbody>\n",
       "</table>\n",
       "</div>"
      ],
      "text/plain": [
       "   C  A\n",
       "0  0  6\n",
       "1  1  2\n",
       "2  7  2\n",
       "3  9  2"
      ]
     },
     "execution_count": 217,
     "metadata": {},
     "output_type": "execute_result"
    }
   ],
   "source": [
    "df = df.drop('B', axis=1) ;df"
   ]
  },
  {
   "cell_type": "code",
   "execution_count": 228,
   "metadata": {
    "collapsed": false
   },
   "outputs": [
    {
     "data": {
      "text/plain": [
       "Index([u'A', u'B', u'C'], dtype='object')"
      ]
     },
     "execution_count": 228,
     "metadata": {},
     "output_type": "execute_result"
    }
   ],
   "source": [
    "df.columns"
   ]
  },
  {
   "cell_type": "code",
   "execution_count": 229,
   "metadata": {
    "collapsed": true
   },
   "outputs": [],
   "source": [
    "df.all?"
   ]
  },
  {
   "cell_type": "code",
   "execution_count": null,
   "metadata": {
    "collapsed": true
   },
   "outputs": [],
   "source": []
  }
 ],
 "metadata": {
  "kernelspec": {
   "display_name": "Python [conda root]",
   "language": "python",
   "name": "conda-root-py"
  },
  "language_info": {
   "codemirror_mode": {
    "name": "ipython",
    "version": 2
   },
   "file_extension": ".py",
   "mimetype": "text/x-python",
   "name": "python",
   "nbconvert_exporter": "python",
   "pygments_lexer": "ipython2",
   "version": "2.7.13"
  }
 },
 "nbformat": 4,
 "nbformat_minor": 2
}
